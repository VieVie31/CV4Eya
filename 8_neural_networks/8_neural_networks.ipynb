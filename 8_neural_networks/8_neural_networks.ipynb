{
 "cells": [
  {
   "cell_type": "markdown",
   "metadata": {},
   "source": [
    "# Neural Networks\n",
    "\n",
    "Let's build a neural network for flowers classification...\n",
    "\n",
    "![flowers](./imgs/jpg/image_0175.jpg)\n",
    "![flowers](./imgs/jpg/image_0996.jpg)\n",
    "\n",
    "**WARNING**: if your computer is too slow and not have enought power, maybe do not run the training cells... they are long to run on CPU...\n",
    "\n",
    "## Libraries"
   ]
  },
  {
   "cell_type": "code",
   "execution_count": 1,
   "metadata": {},
   "outputs": [],
   "source": [
    "import torch\n",
    "import torch.nn as nn\n",
    "import torch.optim as optim\n",
    "\n",
    "from torch.utils.data.dataset import Dataset\n",
    "\n",
    "from torchvision import transforms\n",
    "\n",
    "import glob\n",
    "import random\n",
    "import numpy as np\n",
    "import matplotlib.pyplot as plt\n",
    "\n",
    "from tqdm import tqdm\n",
    "from PIL import Image\n",
    "\n",
    "%matplotlib inline\n",
    "\n",
    "DEVICE = 'cpu'\n",
    "BATCH_SIZE = 16\n",
    "NB_CLASSES = 17\n",
    "SIZE = 64"
   ]
  },
  {
   "cell_type": "markdown",
   "metadata": {},
   "source": [
    "## Dataset\n",
    "\n",
    "Making a dataset class to load the images for pytorch..."
   ]
  },
  {
   "cell_type": "code",
   "execution_count": 2,
   "metadata": {},
   "outputs": [],
   "source": [
    "class FlowersDataset(Dataset):\n",
    "    def __init__(self, size=SIZE, pct=.8, train=True, seed=1996):\n",
    "        self.size = size\n",
    "        #load images\n",
    "        images_pathes = sorted(\n",
    "            glob.glob(\"imgs/jpg/*.jpg\"), \n",
    "            key=lambda s: int(s.split('/')[-1][:-4].split('_')[1])\n",
    "        )\n",
    "        #load labels\n",
    "        labels = [i // 80 for i in range(len(images_pathes))]\n",
    "        #shuffle the dataset\n",
    "        data = list(zip(images_pathes, labels))\n",
    "        random.Random(seed).shuffle(data)\n",
    "        images_pathes, labels = list(zip(*data))\n",
    "        #split the dataset and keep only the interesting part\n",
    "        images_pathes = (\n",
    "            images_pathes[:int(len(images_pathes) * pct)] \n",
    "            if train else \n",
    "            images_pathes[int(len(images_pathes) * pct):]\n",
    "        )\n",
    "        labels = (\n",
    "            labels[:int(len(labels) * pct)] \n",
    "            if train else \n",
    "            labels[int(len(labels) * pct):]\n",
    "        )\n",
    "        self.images_pathes = images_pathes\n",
    "        self.labels = labels\n",
    "        #transormations\n",
    "        self.transform = transforms.Compose([\n",
    "            transforms.RandomHorizontalFlip(),\n",
    "            #transforms.RandomResizedCrop(self.size),\n",
    "            transforms.RandomRotation(15),\n",
    "            transforms.ToTensor()\n",
    "        ])\n",
    "        \n",
    "    def __getitem__(self, index):\n",
    "        #load image\n",
    "        img = Image.open(self.images_pathes[index])\n",
    "        img = img.resize((self.size, self.size), Image.BICUBIC)\n",
    "        img = self.transform(img)\n",
    "        #load label\n",
    "        label = self.labels[index]\n",
    "        return (img, label)\n",
    "\n",
    "    def __len__(self):\n",
    "        return len(self.labels)"
   ]
  },
  {
   "cell_type": "code",
   "execution_count": 3,
   "metadata": {},
   "outputs": [],
   "source": [
    "flower_dataset_train = FlowersDataset(pct=.8, train=True)\n",
    "flower_dataset_loader_train = torch.utils.data.DataLoader(\n",
    "    dataset=flower_dataset_train,\n",
    "    batch_size=BATCH_SIZE,\n",
    "    shuffle=True\n",
    ")\n",
    "\n",
    "flower_dataset_test = FlowersDataset(pct=.8, train=False)\n",
    "flower_dataset_loader_test = torch.utils.data.DataLoader(\n",
    "    dataset=flower_dataset_test,\n",
    "    batch_size=BATCH_SIZE,\n",
    "    shuffle=True\n",
    ")"
   ]
  },
  {
   "cell_type": "markdown",
   "metadata": {},
   "source": [
    "## Softmax Classifier\n",
    "\n",
    "Let's try to classify those flowers a simple linear classifier..."
   ]
  },
  {
   "cell_type": "code",
   "execution_count": 4,
   "metadata": {},
   "outputs": [],
   "source": [
    "class LinearClassifier(nn.Module):\n",
    "    def __init__(self, input_size, nb_classes):\n",
    "        super(LinearClassifier, self).__init__()\n",
    "        self.linear = nn.Sequential(\n",
    "            nn.Linear(input_size, nb_classes),\n",
    "            nn.Softmax(1)\n",
    "        )\n",
    "        \n",
    "    def forward(self, x):\n",
    "        return self.linear(x)\n",
    "    "
   ]
  },
  {
   "cell_type": "code",
   "execution_count": 5,
   "metadata": {},
   "outputs": [
    {
     "name": "stdout",
     "output_type": "stream",
     "text": [
      "LinearClassifier(\n",
      "  (linear): Sequential(\n",
      "    (0): Linear(in_features=12288, out_features=17, bias=True)\n",
      "    (1): Softmax()\n",
      "  )\n",
      ")\n"
     ]
    }
   ],
   "source": [
    "linear_model = LinearClassifier(SIZE * SIZE * 3, NB_CLASSES)\n",
    "optimizer = optim.Adam(list(linear_model.parameters()))\n",
    "loss_function = nn.CrossEntropyLoss()\n",
    "\n",
    "print(linear_model)"
   ]
  },
  {
   "cell_type": "code",
   "execution_count": 6,
   "metadata": {},
   "outputs": [
    {
     "name": "stdout",
     "output_type": "stream",
     "text": [
      "2.9150963683626543\t3.0500945299863815\n",
      "2.913523058393108\t3.050094500184059\n",
      "2.9135231117704024\t3.0500945448875427\n",
      "2.913522844883933\t3.0500945299863815\n",
      "2.9135229551970068\t3.0500945448875427\n",
      "2.9135229374045757\t3.0500945448875427\n",
      "2.9135229729894383\t3.0500945448875427\n",
      "2.9135229374045757\t3.0500945299863815\n",
      "2.913522816416043\t3.0500945448875427\n",
      "2.9135227950651252\t3.050094485282898\n",
      "2.913522275526132\t3.050094500184059\n",
      "2.9128175279987394\t3.0500946044921875\n",
      "2.9135232149665033\t3.0500946193933487\n",
      "2.9135232185249897\t3.0500946193933487\n",
      "2.9135232185249897\t3.0500946193933487\n",
      "2.9135232185249897\t3.0500946193933487\n",
      "2.9135232185249897\t3.0500946193933487\n",
      "2.9135232185249897\t3.0500946193933487\n",
      "2.9135232185249897\t3.0500946193933487\n",
      "2.9135232185249897\t3.0500946193933487\n",
      "2.9135232185249897\t3.0500946193933487\n",
      "2.9135232185249897\t3.0500946193933487\n",
      "2.9135232185249897\t3.0500946193933487\n",
      "2.9135232185249897\t3.0500946193933487\n",
      "2.9135232185249897\t3.0500946193933487\n",
      "2.9135232185249897\t3.0500946193933487\n",
      "2.9135232185249897\t3.0500946193933487\n",
      "2.9135232185249897\t3.0500946193933487\n",
      "2.9135232185249897\t3.0500946193933487\n",
      "2.9135232185249897\t3.0500946193933487\n"
     ]
    },
    {
     "data": {
      "image/png": "[encoded data removed]",
      "text/plain": [
       "<Figure size 432x288 with 1 Axes>"
      ]
     },
     "metadata": {},
     "output_type": "display_data"
    }
   ],
   "source": [
    "loss_history = []\n",
    "loss_history_val = []\n",
    "for epochs in range(30):\n",
    "    #training\n",
    "    mean_loss = 0.\n",
    "    for i, (x, y) in enumerate(flower_dataset_loader_train):\n",
    "        if x.shape[0] != BATCH_SIZE:\n",
    "            continue\n",
    "        x = x.view([BATCH_SIZE, SIZE * SIZE * 3]).to(DEVICE)\n",
    "        y = y.to(DEVICE)\n",
    "        pred = linear_model(x.detach())\n",
    "        loss = loss_function(pred, y.detach())\n",
    "        mean_loss += loss.item()\n",
    "        optimizer.zero_grad()\n",
    "        loss.backward()\n",
    "        optimizer.step()\n",
    "    mean_loss /= float(i)\n",
    "    loss_history.append(float(mean_loss))\n",
    "    print(mean_loss, end='\\t')\n",
    "    #validation\n",
    "    mean_loss_val = 0.\n",
    "    for i, (x, y) in enumerate(flower_dataset_loader_test):\n",
    "        if x.shape[0] != BATCH_SIZE:\n",
    "            continue\n",
    "        x = x.view([BATCH_SIZE, SIZE * SIZE * 3]).to(DEVICE)\n",
    "        y = y.to(DEVICE)\n",
    "        pred = linear_model(x.detach())\n",
    "        loss = loss_function(pred, y.detach())\n",
    "        mean_loss_val += loss.item()\n",
    "    mean_loss_val /= float(i)\n",
    "    loss_history_val.append(float(mean_loss_val))\n",
    "    print(mean_loss_val)\n",
    "        \n",
    "plt.title(\"Losses (blue train, orange validation)\")\n",
    "plt.plot(loss_history)\n",
    "plt.plot(loss_history_val)\n",
    "plt.show()\n"
   ]
  },
  {
   "cell_type": "markdown",
   "metadata": {},
   "source": [
    "## ConvNet\n",
    "\n",
    "Let's build a naïve convnet to compare if it could improve learning performances...\n",
    "\n",
    "We will see later how to build powerfull NNs..."
   ]
  },
  {
   "cell_type": "code",
   "execution_count": 7,
   "metadata": {},
   "outputs": [],
   "source": [
    "#ONLY TAKE 64x64 SIZE !\n",
    "class ConvNet(nn.Module):\n",
    "    def __init__(self, nb_channel_input, nb_classes):\n",
    "        super(ConvNet, self).__init__()\n",
    "        self.conv = nn.Sequential(\n",
    "            nn.Conv2d(nb_channel_input, 8, 3, padding=1),\n",
    "            nn.BatchNorm2d(8, affine=False),\n",
    "            nn.ReLU(),\n",
    "            nn.Conv2d(8, 8, 3, padding=1),\n",
    "            nn.BatchNorm2d(8, affine=False),\n",
    "            nn.ReLU(),\n",
    "            nn.MaxPool2d((2, 2)),\n",
    "            nn.Conv2d(8, 16, 3, padding=1),\n",
    "            nn.BatchNorm2d(16, affine=False),\n",
    "            nn.ReLU(),\n",
    "            nn.Conv2d(16, 16, 3, padding=1),\n",
    "            nn.BatchNorm2d(16, affine=False),\n",
    "            nn.ReLU(),\n",
    "            nn.MaxPool2d((2, 2)),\n",
    "            nn.Conv2d(16, 32, 3),\n",
    "            nn.BatchNorm2d(32, affine=False),\n",
    "            nn.ReLU(),\n",
    "            nn.Conv2d(32, 64, 3),\n",
    "            nn.BatchNorm2d(64, affine=False),\n",
    "            nn.ReLU(),\n",
    "            nn.MaxPool2d((2, 2)),\n",
    "            nn.Conv2d(64, 128, 3),\n",
    "            nn.BatchNorm2d(128, affine=False),\n",
    "            nn.ReLU(),\n",
    "            nn.MaxPool2d((4, 4)),\n",
    "        )\n",
    "        self.fc = nn.Sequential(\n",
    "            nn.Dropout(.25),\n",
    "            nn.Linear(32 * 2 * 2, nb_classes),\n",
    "            nn.Softmax(1)\n",
    "        )\n",
    "        \n",
    "    def forward(self, x):\n",
    "        out = self.conv(x)\n",
    "        out = out.reshape(out.size(0), -1)\n",
    "        out = self.fc(out)\n",
    "        return out\n",
    "    "
   ]
  },
  {
   "cell_type": "code",
   "execution_count": 8,
   "metadata": {},
   "outputs": [
    {
     "name": "stdout",
     "output_type": "stream",
     "text": [
      "ConvNet(\n",
      "  (conv): Sequential(\n",
      "    (0): Conv2d(3, 8, kernel_size=(3, 3), stride=(1, 1), padding=(1, 1))\n",
      "    (1): BatchNorm2d(8, eps=1e-05, momentum=0.1, affine=False, track_running_stats=True)\n",
      "    (2): ReLU()\n",
      "    (3): Conv2d(8, 8, kernel_size=(3, 3), stride=(1, 1), padding=(1, 1))\n",
      "    (4): BatchNorm2d(8, eps=1e-05, momentum=0.1, affine=False, track_running_stats=True)\n",
      "    (5): ReLU()\n",
      "    (6): MaxPool2d(kernel_size=(2, 2), stride=(2, 2), padding=0, dilation=1, ceil_mode=False)\n",
      "    (7): Conv2d(8, 16, kernel_size=(3, 3), stride=(1, 1), padding=(1, 1))\n",
      "    (8): BatchNorm2d(16, eps=1e-05, momentum=0.1, affine=False, track_running_stats=True)\n",
      "    (9): ReLU()\n",
      "    (10): Conv2d(16, 16, kernel_size=(3, 3), stride=(1, 1), padding=(1, 1))\n",
      "    (11): BatchNorm2d(16, eps=1e-05, momentum=0.1, affine=False, track_running_stats=True)\n",
      "    (12): ReLU()\n",
      "    (13): MaxPool2d(kernel_size=(2, 2), stride=(2, 2), padding=0, dilation=1, ceil_mode=False)\n",
      "    (14): Conv2d(16, 32, kernel_size=(3, 3), stride=(1, 1))\n",
      "    (15): BatchNorm2d(32, eps=1e-05, momentum=0.1, affine=False, track_running_stats=True)\n",
      "    (16): ReLU()\n",
      "    (17): Conv2d(32, 64, kernel_size=(3, 3), stride=(1, 1))\n",
      "    (18): BatchNorm2d(64, eps=1e-05, momentum=0.1, affine=False, track_running_stats=True)\n",
      "    (19): ReLU()\n",
      "    (20): MaxPool2d(kernel_size=(2, 2), stride=(2, 2), padding=0, dilation=1, ceil_mode=False)\n",
      "    (21): Conv2d(64, 128, kernel_size=(3, 3), stride=(1, 1))\n",
      "    (22): BatchNorm2d(128, eps=1e-05, momentum=0.1, affine=False, track_running_stats=True)\n",
      "    (23): ReLU()\n",
      "    (24): MaxPool2d(kernel_size=(4, 4), stride=(4, 4), padding=0, dilation=1, ceil_mode=False)\n",
      "  )\n",
      "  (fc): Sequential(\n",
      "    (0): Dropout(p=0.25)\n",
      "    (1): Linear(in_features=128, out_features=17, bias=True)\n",
      "    (2): Softmax()\n",
      "  )\n",
      ")\n"
     ]
    }
   ],
   "source": [
    "conv_net = ConvNet(3, NB_CLASSES)\n",
    "optimizer = optim.Adam(list(conv_net.parameters()))\n",
    "loss_function = nn.CrossEntropyLoss()\n",
    "\n",
    "print(conv_net)"
   ]
  },
  {
   "cell_type": "code",
   "execution_count": 9,
   "metadata": {},
   "outputs": [
    {
     "name": "stdout",
     "output_type": "stream",
     "text": [
      "2.8049994440221075\t2.9308469742536545\n",
      "2.7244899735521915\t2.880208969116211\n",
      "2.6401729832834273\t2.841619312763214\n",
      "2.591782388402455\t2.752775192260742\n",
      "2.5501906765041067\t2.760784551501274\n",
      "2.5237586320336187\t2.773508608341217\n",
      "2.5040747087393234\t2.6780235171318054\n",
      "2.4928497627599917\t2.6684550046920776\n",
      "2.4612817586357916\t2.641323685646057\n",
      "2.453399056818948\t2.6141296923160553\n",
      "2.434287864770462\t2.567312866449356\n",
      "2.3777425751757266\t2.559334471821785\n",
      "2.3775390617883025\t2.5415319204330444\n",
      "2.3745287923670526\t2.542453721165657\n",
      "2.3584882857194587\t2.5197259932756424\n",
      "2.364555003038093\t2.51709520816803\n",
      "2.3606735450118337\t2.5196161568164825\n",
      "2.35129295890011\t2.511077955365181\n",
      "2.360635896227253\t2.5220667123794556\n",
      "2.360207870825013\t2.517266273498535\n",
      "2.3519894204922576\t2.5102550387382507\n",
      "2.3462909549029907\t2.5099435448646545\n",
      "2.3461537823748233\t2.521041214466095\n",
      "2.346061176328517\t2.4980659186840057\n",
      "2.345093399731081\t2.507884234189987\n",
      "2.342045940569977\t2.492511495947838\n",
      "2.3393959572066123\t2.514221742749214\n",
      "2.3361807367694913\t2.5022909492254257\n",
      "2.3370298414088007\t2.505023017525673\n",
      "2.3392827404079153\t2.4957719296216965\n"
     ]
    },
    {
     "data": {
      "image/png": "[encoded data removed]",
      "text/plain": [
       "<Figure size 432x288 with 1 Axes>"
      ]
     },
     "metadata": {},
     "output_type": "display_data"
    }
   ],
   "source": [
    "loss_history = []\n",
    "loss_history_val = []\n",
    "for epochs in range(30):\n",
    "    #training\n",
    "    conv_net.train()\n",
    "    mean_loss = 0.\n",
    "    for i, (x, y) in enumerate(flower_dataset_loader_train):\n",
    "        if x.shape[0] != BATCH_SIZE:\n",
    "            continue\n",
    "        x = x.view([BATCH_SIZE, 3, SIZE, SIZE]).to(DEVICE)\n",
    "        y = y.to(DEVICE)\n",
    "        pred = conv_net(x.detach())\n",
    "        loss = loss_function(pred, y.detach())\n",
    "        mean_loss += loss.item()\n",
    "        optimizer.zero_grad()\n",
    "        loss.backward()\n",
    "        optimizer.step()\n",
    "    mean_loss /= float(i)\n",
    "    loss_history.append(float(mean_loss))\n",
    "    print(mean_loss, end='\\t')\n",
    "    #validation\n",
    "    conv_net.eval()\n",
    "    mean_loss_val = 0.\n",
    "    for i, (x, y) in enumerate(flower_dataset_loader_test):\n",
    "        if x.shape[0] != BATCH_SIZE:\n",
    "            continue\n",
    "        x = x.view([BATCH_SIZE, 3, SIZE, SIZE]).to(DEVICE)\n",
    "        y = y.to(DEVICE)\n",
    "        pred = conv_net(x.detach())\n",
    "        loss = loss_function(pred, y.detach())\n",
    "        mean_loss_val += loss.item()\n",
    "    mean_loss_val /= float(i)\n",
    "    loss_history_val.append(float(mean_loss_val))\n",
    "    print(mean_loss_val)\n",
    "    if epochs == 10:\n",
    "        optimizer = optim.Adam(list(conv_net.parameters()), lr=0.0001)\n",
    "        \n",
    "plt.title(\"Losses (blue train, orange validation)\")\n",
    "plt.plot(loss_history)\n",
    "plt.plot(loss_history_val)\n",
    "plt.show()\n"
   ]
  },
  {
   "cell_type": "code",
   "execution_count": 10,
   "metadata": {},
   "outputs": [
    {
     "data": {
      "image/png": "[encoded data removed]",
      "text/plain": [
       "<Figure size 432x288 with 1 Axes>"
      ]
     },
     "metadata": {},
     "output_type": "display_data"
    }
   ],
   "source": [
    "plt.title(\"Example of flower\")\n",
    "plt.axis(\"off\")\n",
    "plt.imshow(x[0].detach().numpy().transpose(1, 2, 0))\n",
    "plt.show()"
   ]
  },
  {
   "cell_type": "markdown",
   "metadata": {},
   "source": [
    "**Exercice**: _try to understand the code and create a simple 2 hidden layers fully connected network..._\n",
    "\n",
    "(more on NN later...)"
   ]
  },
  {
   "cell_type": "code",
   "execution_count": null,
   "metadata": {},
   "outputs": [],
   "source": []
  }
 ],
 "metadata": {
  "kernelspec": {
   "display_name": "Python 3",
   "language": "python",
   "name": "python3"
  },
  "language_info": {
   "codemirror_mode": {
    "name": "ipython",
    "version": 3
   },
   "file_extension": ".py",
   "mimetype": "text/x-python",
   "name": "python",
   "nbconvert_exporter": "python",
   "pygments_lexer": "ipython3",
   "version": "3.6.5"
  }
 },
 "nbformat": 4,
 "nbformat_minor": 2
}
