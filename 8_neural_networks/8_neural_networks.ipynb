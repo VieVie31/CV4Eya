{
 "cells": [
  {
   "cell_type": "markdown",
   "metadata": {},
   "source": [
    "# Neural Networks\n",
    "\n",
    "Let's do a quick tour of neural networks with MNIST and PyTorch.\n",
    "\n",
    "MNIST is a toy dataset containing digit images of 28x28 in gray scale. \n",
    "For more infos about MNIST take a look the Lecun's [page](http://yann.lecun.com/exdb/mnist/) with some decription and results of differents architectures...\n",
    "\n",
    "This notebook will be longer than the previous ones and will not cover all can do neural nets... just to have a quick look...\n",
    "Here is the list of what it contains :\n",
    "\n",
    "- linear network\n",
    "- fully connected network with one hidden layer\n",
    "- lenet like convolutionnal network\n",
    "- activation map with fully convolutionnal network\n",
    "- autoencoder\n",
    "- transfert learning\n",
    "\n",
    "\n",
    "## Libraries"
   ]
  },
  {
   "cell_type": "code",
   "execution_count": 1,
   "metadata": {},
   "outputs": [],
   "source": [
    "import torch\n",
    "import torch.nn as nn\n",
    "import torch.optim as optim\n",
    "\n",
    "from torch.autograd import Variable\n",
    "from torch.utils.data.dataset import Dataset\n",
    "from torchvision import datasets, transforms\n",
    "\n",
    "import glob\n",
    "import random\n",
    "import numpy as np\n",
    "import matplotlib.pyplot as plt\n",
    "\n",
    "from tqdm import tqdm\n",
    "from PIL import Image\n",
    "from sklearn.ensemble import RandomForestClassifier\n",
    "\n",
    "%matplotlib inline\n",
    "\n",
    "DEVICE = 'cpu'\n",
    "BATCH_SIZE = 16\n",
    "NB_CLASSES = 10\n",
    "SIZE = 28"
   ]
  },
  {
   "cell_type": "markdown",
   "metadata": {},
   "source": [
    "## Dataset\n",
    "\n",
    "Download the data and load the datasets..."
   ]
  },
  {
   "cell_type": "code",
   "execution_count": 2,
   "metadata": {},
   "outputs": [],
   "source": [
    "train_loader = torch.utils.data.DataLoader(\n",
    "    datasets.MNIST(\n",
    "        '.',                                            #download in the current directory\n",
    "        train = True,                                   #donwload the training base\n",
    "        download = True,                                #allow downloading if not already downloaded\n",
    "        transform = transforms.Compose([                #operations applied on the images before passing to the NN\n",
    "            transforms.ToTensor(),                      #just convert the image into a tensor (required)\n",
    "            transforms.Normalize((0.1307,), (0.3081,))  #normalize the image with mean and variance\n",
    "        ])\n",
    "    ),\n",
    "    batch_size=BATCH_SIZE,                              #set the batch size (explicit enought I think...)\n",
    "    shuffle=True                                        #allow the dataset to be shuffled\n",
    ")\n",
    "\n",
    "test_loader = torch.utils.data.DataLoader(              #same thing for the test\n",
    "    datasets.MNIST(\n",
    "        '.',\n",
    "        train = False,                                  #load the test set\n",
    "        transform = transforms.Compose([\n",
    "            transforms.ToTensor(),\n",
    "            transforms.Normalize((0.1307,), (0.3081,))\n",
    "        ])\n",
    "    ),\n",
    "    batch_size=BATCH_SIZE,\n",
    "    shuffle=True\n",
    ")"
   ]
  },
  {
   "cell_type": "markdown",
   "metadata": {},
   "source": [
    "## Fully Connected Networks\n",
    "\n",
    "### Linear classifier\n",
    "\n",
    "Let's build the simplest linear classifier we can to get firsts results..."
   ]
  },
  {
   "cell_type": "code",
   "execution_count": 3,
   "metadata": {},
   "outputs": [],
   "source": [
    "class LinearClassifier(nn.Module):\n",
    "    def __init__(self, nb_classes=10):\n",
    "        super(LinearClassifier, self).__init__()\n",
    "        self.linear = nn.Sequential(\n",
    "            nn.Linear(784, nb_classes),            #784 because 28x28, from 784 input to nb_classes output\n",
    "            nn.Softmax(1)                          #1 to tell on wich dimension perform the softmax normalization\n",
    "        )\n",
    "        \n",
    "    def forward(self, x):\n",
    "        return self.linear(x)\n",
    "    "
   ]
  },
  {
   "cell_type": "code",
   "execution_count": 4,
   "metadata": {},
   "outputs": [
    {
     "name": "stdout",
     "output_type": "stream",
     "text": [
      "LinearClassifier(\n",
      "  (linear): Sequential(\n",
      "    (0): Linear(in_features=784, out_features=10, bias=True)\n",
      "    (1): Softmax()\n",
      "  )\n",
      ")\n"
     ]
    }
   ],
   "source": [
    "linear_model = LinearClassifier(NB_CLASSES)              #instanciate the model\n",
    "optimizer = optim.Adam(list(linear_model.parameters()))  #create an optimizer\n",
    "loss_function = nn.CrossEntropyLoss()                    #create a loss function (multiclass -> cross entropy)\n",
    "\n",
    "print(linear_model)                                      #quick look to our naive model"
   ]
  },
  {
   "cell_type": "code",
   "execution_count": 5,
   "metadata": {},
   "outputs": [
    {
     "name": "stdout",
     "output_type": "stream",
     "text": [
      "1.5847845896621424\t1.5535694567056804\n",
      "1.5490066641392661\t1.5443987655333984\n",
      "1.5428013549419555\t1.54133180471567\n",
      "1.5387446962060467\t1.5413843374221752\n",
      "1.5363105302112647\t1.5381035099808986\n",
      "1.5340817328229464\t1.5384795104081814\n",
      "1.53252917761865\t1.5374903560448916\n",
      "1.5313446675977507\t1.5363162838113613\n",
      "1.5298791643650445\t1.5394402524599662\n",
      "1.528951072826421\t1.5354954199149058\n",
      "1.528437056996785\t1.5332646031792347\n",
      "1.5274375593798992\t1.5354130331140299\n",
      "1.5269193676319972\t1.534111615939018\n",
      "1.5259264945729505\t1.5357670285380804\n",
      "1.525558115991474\t1.5383317281420414\n",
      "1.5245640510939127\t1.5352086976934702\n",
      "1.5244100777490452\t1.5344470206361551\n",
      "1.5234215953694117\t1.5333398926334503\n",
      "1.5234022495682382\t1.5333608127175233\n",
      "1.5228304640710688\t1.5338872071260061\n"
     ]
    },
    {
     "data": {
      "image/png": "[encoded data removed]",
      "text/plain": [
       "<Figure size 432x288 with 1 Axes>"
      ]
     },
     "metadata": {},
     "output_type": "display_data"
    }
   ],
   "source": [
    "loss_history = []                                            #to record the training loss\n",
    "loss_history_val = []                                        #to record the testing  loss\n",
    "\n",
    "for epochs in range(20):                                     #let's run on 20 epochs\n",
    "    #training\n",
    "    linear_model = linear_model.train()                      #put our model in training mode (allow learning)\n",
    "    mean_loss = 0.                                           #to compute the mean loss\n",
    "    for i, (x, y) in enumerate(train_loader):                #load by batches the Xs and label associated\n",
    "        if x.shape[0] != BATCH_SIZE:                         #just checking the batch size is good\n",
    "            continue\n",
    "        x = x.view([BATCH_SIZE, SIZE * SIZE]).to(DEVICE)     #reshape the data to match the network input size\n",
    "        y = y.to(DEVICE)                                     #putting the labels on the device (cpu or cuda, just to be generic)\n",
    "        pred = linear_model(x)                               #compute the model predictions for one batch\n",
    "        loss = loss_function(pred, y)                        #compute the loss for one batch\n",
    "        mean_loss += loss.item()                             #actualise the mean loss\n",
    "        optimizer.zero_grad()                                #reseting the gradient of the previous iteration\n",
    "        loss.backward()                                      #accumulate the gradient\n",
    "        optimizer.step()                                     #update parameters\n",
    "    mean_loss /= float(i)                                    #compute the mean loss\n",
    "    loss_history.append(float(mean_loss))\n",
    "    print(mean_loss, end='\\t')\n",
    "    \n",
    "    #validation\n",
    "    linear_model = linear_model.eval()                       #put the network in eval mode\n",
    "    mean_loss_val = 0.\n",
    "    for i, (x, y) in enumerate(test_loader):\n",
    "        if x.shape[0] != BATCH_SIZE:\n",
    "            continue\n",
    "        x = x.view([BATCH_SIZE, SIZE * SIZE]).to(DEVICE)\n",
    "        y = y.to(DEVICE)\n",
    "        pred = linear_model(x)\n",
    "        loss = loss_function(pred, y)\n",
    "        mean_loss_val += loss.item()\n",
    "    mean_loss_val /= float(i)\n",
    "    loss_history_val.append(float(mean_loss_val))\n",
    "    print(mean_loss_val)\n",
    "        \n",
    "plt.title(\"Losses (blue train, orange validation)\")\n",
    "plt.plot(loss_history)\n",
    "plt.plot(loss_history_val)\n",
    "plt.show()\n"
   ]
  },
  {
   "cell_type": "code",
   "execution_count": 6,
   "metadata": {},
   "outputs": [
    {
     "name": "stdout",
     "output_type": "stream",
     "text": [
      "accuracy : 0.9313902243589743 %\n"
     ]
    }
   ],
   "source": [
    "#compute accuracy\n",
    "linear_model = linear_model.eval()\n",
    "acc = 0.\n",
    "for i, (x, y) in enumerate(test_loader):\n",
    "    x = x.view([BATCH_SIZE, SIZE * SIZE]).to(DEVICE)\n",
    "    y = y.to(DEVICE)\n",
    "    pred = linear_model(x)\n",
    "    acc += (pred.max(1)[1] == y).detach().numpy().sum() / float(BATCH_SIZE)\n",
    "acc /= i\n",
    "print(\"accuracy :\", acc, \"%\")"
   ]
  },
  {
   "cell_type": "markdown",
   "metadata": {},
   "source": [
    "Not so bad, but it's well know that MNIST is only a toy dataset with which one you can super easily get good scores...\n",
    "\n",
    "So, let's try to improve our score by adding an hidden layer... it's still not 100% ! 😉\n",
    "\n",
    "### One hidden unit network"
   ]
  },
  {
   "cell_type": "code",
   "execution_count": 7,
   "metadata": {},
   "outputs": [],
   "source": [
    "class FullyConnectedNeuralNetwork(nn.Module):\n",
    "    def __init__(self, nb_classes=10):\n",
    "        super(FullyConnectedNeuralNetwork, self).__init__()\n",
    "        self.fc = nn.Sequential(\n",
    "            nn.Linear(784, 300),                           #let's put randomly 300 neurons in the hidden unit\n",
    "            nn.ReLU(),                                     #let's add some non linearity with ReLU\n",
    "            nn.Linear(300, nb_classes),                    #from 300 HU to nb_classes\n",
    "            nn.Softmax(1)\n",
    "        )\n",
    "        \n",
    "    def forward(self, x):\n",
    "        return self.fc(x)"
   ]
  },
  {
   "cell_type": "code",
   "execution_count": 8,
   "metadata": {},
   "outputs": [
    {
     "name": "stdout",
     "output_type": "stream",
     "text": [
      "FullyConnectedNeuralNetwork(\n",
      "  (fc): Sequential(\n",
      "    (0): Linear(in_features=784, out_features=300, bias=True)\n",
      "    (1): ReLU()\n",
      "    (2): Linear(in_features=300, out_features=10, bias=True)\n",
      "    (3): Softmax()\n",
      "  )\n",
      ")\n"
     ]
    }
   ],
   "source": [
    "fc_classifier = FullyConnectedNeuralNetwork(NB_CLASSES)   #instanciate the model\n",
    "optimizer = optim.Adam(list(fc_classifier.parameters()))  #create an optimizer\n",
    "loss_function = nn.CrossEntropyLoss()                     #create a loss function (multiclass -> cross entropy)\n",
    "\n",
    "print(fc_classifier)                                      #quick look to our naive model"
   ]
  },
  {
   "cell_type": "code",
   "execution_count": 9,
   "metadata": {},
   "outputs": [
    {
     "name": "stdout",
     "output_type": "stream",
     "text": [
      "1.5550961481408776\t1.5134064568540988\n",
      "1.5088826850052675\t1.5115396600121107\n",
      "1.5009958288389131\t1.502725855089151\n",
      "1.4962803600119985\t1.4957845977101571\n",
      "1.4929661700871188\t1.4998048419753711\n",
      "1.4906773120125125\t1.4952854850353339\n",
      "1.4882213122115258\t1.496836666877453\n",
      "1.4869863144649955\t1.4935283104960735\n",
      "1.4863471271960569\t1.4947567754066908\n",
      "1.4849567496321874\t1.496338997131739\n"
     ]
    },
    {
     "data": {
      "image/png": "[encoded data removed]",
      "text/plain": [
       "<Figure size 432x288 with 1 Axes>"
      ]
     },
     "metadata": {},
     "output_type": "display_data"
    }
   ],
   "source": [
    "loss_history = []                                            #to record the training loss\n",
    "loss_history_val = []                                        #to record the testing  loss\n",
    "\n",
    "for epochs in range(10):                                     #let's run on 10 epochs\n",
    "    #training\n",
    "    fc_classifier = fc_classifier.train()                    #put our model in training mode (allow learning)\n",
    "    mean_loss = 0.                                           #to compute the mean loss\n",
    "    for i, (x, y) in enumerate(train_loader):                #load by batches the Xs and label associated\n",
    "        if x.shape[0] != BATCH_SIZE:                         #just checking the batch size is good\n",
    "            continue\n",
    "        x = x.view([BATCH_SIZE, SIZE * SIZE]).to(DEVICE)     #reshape the data to match the network input size\n",
    "        y = y.to(DEVICE)                                     #putting the labels on the device (cpu or cuda, just to be generic)\n",
    "        pred = fc_classifier(x)                              #compute the model predictions for one batch\n",
    "        loss = loss_function(pred, y)                        #compute the loss for one batch\n",
    "        mean_loss += loss.item()                             #actualise the mean loss\n",
    "        optimizer.zero_grad()                                #reseting the gradient of the previous iteration\n",
    "        loss.backward()                                      #accumulate the gradient\n",
    "        optimizer.step()                                     #update parameters\n",
    "    mean_loss /= float(i)                                    #compute the mean loss\n",
    "    loss_history.append(float(mean_loss))\n",
    "    print(mean_loss, end='\\t')\n",
    "    \n",
    "    #validation\n",
    "    fc_classifier = fc_classifier.eval()                      #put the network in eval mode\n",
    "    mean_loss_val = 0.\n",
    "    for i, (x, y) in enumerate(test_loader):\n",
    "        if x.shape[0] != BATCH_SIZE:\n",
    "            continue\n",
    "        x = x.view([BATCH_SIZE, SIZE * SIZE]).to(DEVICE)\n",
    "        y = y.to(DEVICE)\n",
    "        pred = fc_classifier(x)\n",
    "        loss = loss_function(pred, y)\n",
    "        mean_loss_val += loss.item()\n",
    "    mean_loss_val /= float(i)\n",
    "    loss_history_val.append(float(mean_loss_val))\n",
    "    print(mean_loss_val)\n",
    "        \n",
    "plt.title(\"Losses (blue train, orange validation)\")\n",
    "plt.plot(loss_history)\n",
    "plt.plot(loss_history_val)\n",
    "plt.show()\n"
   ]
  },
  {
   "cell_type": "code",
   "execution_count": 10,
   "metadata": {},
   "outputs": [
    {
     "name": "stdout",
     "output_type": "stream",
     "text": [
      "accuracy : 0.9683493589743589 %\n"
     ]
    }
   ],
   "source": [
    "#compute accuracy\n",
    "fc_classifier = fc_classifier.eval()\n",
    "acc = 0.\n",
    "for i, (x, y) in enumerate(test_loader):\n",
    "    x = x.view([BATCH_SIZE, SIZE * SIZE]).to(DEVICE)\n",
    "    y = y.to(DEVICE)\n",
    "    pred = fc_classifier(x)\n",
    "    acc += (pred.max(1)[1] == y).detach().numpy().sum() / float(BATCH_SIZE)\n",
    "acc /= i\n",
    "print(\"accuracy :\", acc, \"%\")"
   ]
  },
  {
   "cell_type": "markdown",
   "metadata": {},
   "source": [
    "Wahouuu !! much better score 😃 !!\n",
    "\n",
    "But, event if it worked well, just putting one hidden unit is absolutely not enoughts on real world images (enven on CIFAR10)... 😞 it'll add too many parameters and start to overfit...\n",
    "\n",
    "Also, even if we could stop here, we will see what revolutionnized the image wolds bellow ! 😍\n"
   ]
  },
  {
   "cell_type": "markdown",
   "metadata": {},
   "source": [
    "___Exercice___: _try to code a network with 784 inputs, 50 neurons in the first hidden layer, 20 neurons in the second hidden layer and 10 ouputs, then test it on MNIST_..."
   ]
  },
  {
   "cell_type": "code",
   "execution_count": null,
   "metadata": {},
   "outputs": [],
   "source": []
  },
  {
   "cell_type": "markdown",
   "metadata": {},
   "source": [
    "## ConvNet\n",
    "\n",
    "Neural networks are pretty old, but since 2012 there is a huge growth of interest since _AlexNet_ (an very fat neural network) won the ImageNet challenge by dropping the error from 26 to 16 (a very very huge improvment).\n",
    "\n",
    "The secret of the modern networks for images (not anymore a sercret for anybody) is the convolution ! \n",
    "This operation allow us to add more layer with much fewer parameters and help the network to generalize much more... ✅\n",
    "\n",
    "Let's start first to implement a very simple network : the LeNet architecture.\n",
    "\n",
    "![lenet](./imgs/lenet.png)\n",
    "\n",
    "The size will not be exactly the sames because our images are 28x28 instead of 32x32 like in the picture..."
   ]
  },
  {
   "cell_type": "code",
   "execution_count": 11,
   "metadata": {},
   "outputs": [],
   "source": [
    "class LeNet(nn.Module):\n",
    "    def __init__(self, nb_classes=10):\n",
    "        super(LeNet, self).__init__()\n",
    "        self.conv = nn.Sequential(\n",
    "            nn.Conv2d(1, 6, 5, padding=1), #1 input channel (grayscale), 6 filters (= 6 outputs channnels), filter size 5\n",
    "            nn.ReLU(),\n",
    "            nn.MaxPool2d((2, 2)),          #reduce the channels output size by 2 (taking the max between 2 adjacent pixels)\n",
    "            nn.Conv2d(6, 15, 3),           #6 inputs, 15 ouputs\n",
    "            nn.ReLU(),\n",
    "            nn.MaxPool2d((2, 2)),\n",
    "            nn.Conv2d(15, 15, 3), \n",
    "            nn.ReLU()\n",
    "        )\n",
    "        self.fc = nn.Sequential(\n",
    "            nn.Linear(135, nb_classes),    #put a fully connected layer at the end of the conv features extraction\n",
    "            nn.Softmax(1)\n",
    "        )\n",
    "        \n",
    "    def forward(self, x):\n",
    "        out = self.conv(x)                  #extract the conv features\n",
    "        out = out.reshape(out.size(0), -1)  #flatten before passing to fully connected\n",
    "        out = self.fc(out)                  #classify\n",
    "        return out\n",
    "        \n"
   ]
  },
  {
   "cell_type": "code",
   "execution_count": 12,
   "metadata": {},
   "outputs": [
    {
     "name": "stdout",
     "output_type": "stream",
     "text": [
      "LeNet(\n",
      "  (conv): Sequential(\n",
      "    (0): Conv2d(1, 6, kernel_size=(5, 5), stride=(1, 1), padding=(1, 1))\n",
      "    (1): ReLU()\n",
      "    (2): MaxPool2d(kernel_size=(2, 2), stride=(2, 2), padding=0, dilation=1, ceil_mode=False)\n",
      "    (3): Conv2d(6, 15, kernel_size=(3, 3), stride=(1, 1))\n",
      "    (4): ReLU()\n",
      "    (5): MaxPool2d(kernel_size=(2, 2), stride=(2, 2), padding=0, dilation=1, ceil_mode=False)\n",
      "    (6): Conv2d(15, 15, kernel_size=(3, 3), stride=(1, 1))\n",
      "    (7): ReLU()\n",
      "  )\n",
      "  (fc): Sequential(\n",
      "    (0): Linear(in_features=135, out_features=10, bias=True)\n",
      "    (1): Softmax()\n",
      "  )\n",
      ")\n"
     ]
    }
   ],
   "source": [
    "le_net = LeNet(NB_CLASSES)   \n",
    "optimizer = optim.Adam(list(le_net.parameters()))  \n",
    "loss_function = nn.CrossEntropyLoss()                 \n",
    "\n",
    "print(le_net)           "
   ]
  },
  {
   "cell_type": "code",
   "execution_count": 13,
   "metadata": {},
   "outputs": [
    {
     "name": "stdout",
     "output_type": "stream",
     "text": [
      "1.6198988166228077\t1.579564067415702\n",
      "1.5797774481690703\t1.5731017616314766\n",
      "1.5747388720862163\t1.5718721881126747\n",
      "1.569176912752906\t1.4924637352426846\n",
      "1.4876777019205651\t1.486641909640569\n",
      "1.4837091723325317\t1.4828016377794437\n",
      "1.4820351683320794\t1.4888047297031453\n",
      "1.4810152656079991\t1.4804989850291839\n",
      "1.4811685546998121\t1.4830226649840672\n",
      "1.4813290414698252\t1.4830358225183609\n"
     ]
    },
    {
     "data": {
      "image/png": "[encoded data removed]",
      "text/plain": [
       "<Figure size 432x288 with 1 Axes>"
      ]
     },
     "metadata": {},
     "output_type": "display_data"
    }
   ],
   "source": [
    "loss_history = []                                            #to record the training loss\n",
    "loss_history_val = []                                        #to record the testing  loss\n",
    "\n",
    "for epochs in range(10):                                     #let's run on 10 epochs\n",
    "    #training\n",
    "    le_net = le_net.train()                                  #put our model in training mode (allow learning)\n",
    "    mean_loss = 0.                                           #to compute the mean loss\n",
    "    for i, (x, y) in enumerate(train_loader):                #load by batches the Xs and label associated\n",
    "        if x.shape[0] != BATCH_SIZE:                         #just checking the batch size is good\n",
    "            continue\n",
    "        x = x.view([BATCH_SIZE, 1, SIZE, SIZE]).to(DEVICE)   #<!> the shape are not the same (an image 2D is passed)\n",
    "        y = y.to(DEVICE)                                     #putting the labels on the device (cpu or cuda, just to be generic)\n",
    "        pred = le_net(x)                                     #compute the model predictions for one batch\n",
    "        loss = loss_function(pred, y)                        #compute the loss for one batch\n",
    "        mean_loss += loss.item()                             #actualise the mean loss\n",
    "        optimizer.zero_grad()                                #reseting the gradient of the previous iteration\n",
    "        loss.backward()                                      #accumulate the gradient\n",
    "        optimizer.step()                                     #update parameters\n",
    "    mean_loss /= float(i)                                    #compute the mean loss\n",
    "    loss_history.append(float(mean_loss))\n",
    "    print(mean_loss, end='\\t')\n",
    "    \n",
    "    #validation\n",
    "    le_net = le_net.eval()                                   #put the network in eval mode\n",
    "    mean_loss_val = 0.\n",
    "    for i, (x, y) in enumerate(test_loader):\n",
    "        if x.shape[0] != BATCH_SIZE:\n",
    "            continue\n",
    "        x = x.view([BATCH_SIZE, 1, SIZE, SIZE]).to(DEVICE)\n",
    "        y = y.to(DEVICE)\n",
    "        pred = le_net(x)\n",
    "        loss = loss_function(pred, y)\n",
    "        mean_loss_val += loss.item()\n",
    "    mean_loss_val /= float(i)\n",
    "    loss_history_val.append(float(mean_loss_val))\n",
    "    print(mean_loss_val)\n",
    "        \n",
    "plt.title(\"Losses (blue train, orange validation)\")\n",
    "plt.plot(loss_history)\n",
    "plt.plot(loss_history_val)\n",
    "plt.show()\n"
   ]
  },
  {
   "cell_type": "code",
   "execution_count": 14,
   "metadata": {},
   "outputs": [
    {
     "name": "stdout",
     "output_type": "stream",
     "text": [
      "accuracy : 0.9820713141025641 %\n"
     ]
    }
   ],
   "source": [
    "#compute accuracy\n",
    "le_net = le_net.eval()\n",
    "acc = 0.\n",
    "for i, (x, y) in enumerate(test_loader):\n",
    "    x = x.view([BATCH_SIZE, 1, SIZE, SIZE]).to(DEVICE)\n",
    "    y = y.to(DEVICE)\n",
    "    pred = le_net(x)\n",
    "    acc += (pred.max(1)[1] == y).detach().numpy().sum() / float(BATCH_SIZE)\n",
    "acc /= i\n",
    "print(\"accuracy :\", acc, \"%\")"
   ]
  },
  {
   "cell_type": "markdown",
   "metadata": {},
   "source": [
    "Whaou !!! another score improvment !!! not so spectacular, but think: the last percents are always the harder to get, so it's still a pretty good improvment ! \n",
    "\n",
    "But, you know there is an other hidden improvment : the size of the network...\n",
    "\n",
    "Let's compare how many parameters the fully connected network had and how few our stupid conv net has :"
   ]
  },
  {
   "cell_type": "code",
   "execution_count": 15,
   "metadata": {},
   "outputs": [
    {
     "name": "stdout",
     "output_type": "stream",
     "text": [
      "fully connected :\t 238510\n",
      "conv net :\t\t 4381\n"
     ]
    }
   ],
   "source": [
    "def count_params(network):\n",
    "    return np.sum(np.prod(p.size()) for p in network.parameters())\n",
    "\n",
    "print(\"fully connected :\\t\",count_params(fc_classifier))\n",
    "print(\"conv net :\\t\\t\", count_params(le_net))"
   ]
  },
  {
   "cell_type": "markdown",
   "metadata": {},
   "source": [
    "There is an addage telling something like : deeper is better. I think it's because it introduce more non linearity....\n",
    "\n",
    "**Exercice**: _try to rebuild the network, vary the number of filters and the size, deleting and adding more layer (if possible)..._\n",
    "\n",
    "This exercise is trickier than the previous, because you should be aware and compute the size of the input of the fully connected classifier... (here 135 is not a magic number). GOOD LUCK ! 😜"
   ]
  },
  {
   "cell_type": "code",
   "execution_count": null,
   "metadata": {},
   "outputs": [],
   "source": []
  },
  {
   "cell_type": "markdown",
   "metadata": {},
   "source": [
    "## Localisation\n",
    "\n",
    "Another intersting stuff with the conv net is that we could use them to localise an object without calling it again and again with the sliding window function...\n",
    "Indeed with the convolution it's like if the sliding window was allready included inside !\n",
    "\n",
    "To do it, the fully connected layers just need to be transformed into convolutions ones.\n",
    "Now our network can take in input images with different size and with the activations of ouput we can localize where the object are detected...\n",
    "But we should be aware of the scale problem...\n",
    "\n",
    "This is the first idea used in networks used for localisation like R-CNN, Faster R-CNN etc.\n",
    "\n",
    "For simplicity reasons we will just make a fully convolutionnal neural network and not try to convert the learned fully connected weights into convolutions..."
   ]
  },
  {
   "cell_type": "code",
   "execution_count": 16,
   "metadata": {},
   "outputs": [],
   "source": [
    "class AllConvolutionNetwork(nn.Module):\n",
    "    def __init__(self, nb_classes=10):\n",
    "        super(AllConvolutionNetwork, self).__init__()\n",
    "        self.conv = nn.Sequential(\n",
    "            nn.Conv2d(1, 6, 5, padding=1),\n",
    "            nn.BatchNorm2d(6),\n",
    "            nn.Sigmoid(),\n",
    "            nn.MaxPool2d((2, 2)),\n",
    "            nn.Conv2d(6, 15, 3),\n",
    "            nn.BatchNorm2d(15),\n",
    "            nn.Sigmoid(),\n",
    "            nn.MaxPool2d((2, 2)),\n",
    "            nn.Conv2d(15, 15, 3),\n",
    "            nn.BatchNorm2d(15),\n",
    "            nn.Sigmoid(),\n",
    "            nn.Conv2d(15, 10, 3),\n",
    "            nn.BatchNorm2d(10),\n",
    "            nn.Sigmoid(),\n",
    "            nn.Conv2d(10, 10, 1), \n",
    "            nn.BatchNorm2d(10),\n",
    "            nn.Softmax(),\n",
    "        )\n",
    "    \n",
    "    def forward(self, x):\n",
    "        return self.conv(x)\n"
   ]
  },
  {
   "cell_type": "code",
   "execution_count": 17,
   "metadata": {},
   "outputs": [
    {
     "name": "stdout",
     "output_type": "stream",
     "text": [
      "AllConvolutionNetwork(\n",
      "  (conv): Sequential(\n",
      "    (0): Conv2d(1, 6, kernel_size=(5, 5), stride=(1, 1), padding=(1, 1))\n",
      "    (1): BatchNorm2d(6, eps=1e-05, momentum=0.1, affine=True, track_running_stats=True)\n",
      "    (2): Sigmoid()\n",
      "    (3): MaxPool2d(kernel_size=(2, 2), stride=(2, 2), padding=0, dilation=1, ceil_mode=False)\n",
      "    (4): Conv2d(6, 15, kernel_size=(3, 3), stride=(1, 1))\n",
      "    (5): BatchNorm2d(15, eps=1e-05, momentum=0.1, affine=True, track_running_stats=True)\n",
      "    (6): Sigmoid()\n",
      "    (7): MaxPool2d(kernel_size=(2, 2), stride=(2, 2), padding=0, dilation=1, ceil_mode=False)\n",
      "    (8): Conv2d(15, 15, kernel_size=(3, 3), stride=(1, 1))\n",
      "    (9): BatchNorm2d(15, eps=1e-05, momentum=0.1, affine=True, track_running_stats=True)\n",
      "    (10): Sigmoid()\n",
      "    (11): Conv2d(15, 10, kernel_size=(3, 3), stride=(1, 1))\n",
      "    (12): BatchNorm2d(10, eps=1e-05, momentum=0.1, affine=True, track_running_stats=True)\n",
      "    (13): Sigmoid()\n",
      "    (14): Conv2d(10, 10, kernel_size=(1, 1), stride=(1, 1))\n",
      "    (15): BatchNorm2d(10, eps=1e-05, momentum=0.1, affine=True, track_running_stats=True)\n",
      "    (16): Softmax()\n",
      "  )\n",
      ")\n"
     ]
    }
   ],
   "source": [
    "all_conv = AllConvolutionNetwork(NB_CLASSES)   \n",
    "optimizer = optim.Adam(list(all_conv.parameters()))  \n",
    "loss_function = nn.BCELoss()           \n",
    "\n",
    "print(all_conv)           "
   ]
  },
  {
   "cell_type": "code",
   "execution_count": 18,
   "metadata": {},
   "outputs": [],
   "source": [
    "def onehot(x, ln=10): #one hot encoding\n",
    "    out = [0] * ln\n",
    "    out[x] = 1\n",
    "    return out\n"
   ]
  },
  {
   "cell_type": "code",
   "execution_count": 19,
   "metadata": {},
   "outputs": [
    {
     "name": "stderr",
     "output_type": "stream",
     "text": [
      "/usr/local/lib/python3.6/site-packages/torch/nn/modules/container.py:91: UserWarning: Implicit dimension choice for softmax has been deprecated. Change the call to include dim=X as an argument.\n",
      "  input = module(input)\n"
     ]
    },
    {
     "name": "stdout",
     "output_type": "stream",
     "text": [
      "0.09667513338825597\t0.04391918393924125\t0.03153826714176352\t"
     ]
    }
   ],
   "source": [
    "#<!> loss not comparable : training with BCE to match a sigmoid ouput inseat of cross entropy for softmax !!!\n",
    "\n",
    "loss_history = []                                           \n",
    "loss_history_val = []                                        \n",
    "\n",
    "for epochs in range(3):    #just 3 epochs...                                  \n",
    "    #training\n",
    "    all_conv = all_conv.train()                                  \n",
    "    mean_loss = 0.                                           \n",
    "    for i, (x, y) in enumerate(train_loader):                \n",
    "        if x.shape[0] != BATCH_SIZE:                         \n",
    "            continue\n",
    "        x = x.view([BATCH_SIZE, 1, SIZE, SIZE]).to(DEVICE)  \n",
    "        y = torch.FloatTensor(np.array(list(map(lambda c: onehot(c), y)))).view(BATCH_SIZE, 10, 1, 1)\n",
    "        y = y.to(DEVICE)                                   \n",
    "        pred = all_conv(x) \n",
    "        loss = loss_function(pred, y)  \n",
    "        mean_loss += loss.item()     \n",
    "        optimizer.zero_grad()    \n",
    "        loss.backward()                         \n",
    "        optimizer.step()                               \n",
    "    mean_loss /= float(i)                                   \n",
    "    loss_history.append(float(mean_loss))\n",
    "    print(mean_loss, end='\\t')"
   ]
  },
  {
   "cell_type": "code",
   "execution_count": 20,
   "metadata": {},
   "outputs": [
    {
     "name": "stdout",
     "output_type": "stream",
     "text": [
      "tensor([ 9,  3,  4,  1,  2,  6,  3,  1,  4,  7,  0,  7,  7,  7,\n",
      "         9,  2])\n",
      "tensor([ 9,  3,  4,  1,  2,  6,  3,  1,  4,  7,  0,  7,  7,  7,\n",
      "         9,  2])\n"
     ]
    }
   ],
   "source": [
    "#quick check about the prediction and ground truth to check if it learn not too badly\n",
    "print(pred.view(16, 10).max(1)[1])\n",
    "print(y.view(16, 10).max(1)[1])"
   ]
  },
  {
   "cell_type": "code",
   "execution_count": 21,
   "metadata": {},
   "outputs": [
    {
     "data": {
      "image/png": "[encoded data removed]",
      "text/plain": [
       "<Figure size 432x288 with 1 Axes>"
      ]
     },
     "metadata": {},
     "output_type": "display_data"
    }
   ],
   "source": [
    "#build an image with severa digits to see the activation map\n",
    "\n",
    "image = np.zeros((28 * 4, 28 * 4))\n",
    "batch = x.detach().numpy()\n",
    "for i in range(4):\n",
    "    for j in range(4):\n",
    "        image[i * 28 : (i + 1) * 28, j * 28 : (j + 1) * 28] = x[i * 4 + j, 0]\n",
    "\n",
    "plt.title(\"Original image\")\n",
    "plt.imshow(image)\n",
    "plt.axis(\"off\")\n",
    "plt.show()"
   ]
  },
  {
   "cell_type": "code",
   "execution_count": 22,
   "metadata": {},
   "outputs": [
    {
     "name": "stderr",
     "output_type": "stream",
     "text": [
      "/usr/local/lib/python3.6/site-packages/torch/nn/modules/container.py:91: UserWarning: Implicit dimension choice for softmax has been deprecated. Change the call to include dim=X as an argument.\n",
      "  input = module(input)\n"
     ]
    }
   ],
   "source": [
    "#pass the all convolutionnal network on the image\n",
    "activation_maps = all_conv(torch.FloatTensor(image).view([1, 1, 28 * 4, 28 * 4])).detach().numpy()"
   ]
  },
  {
   "cell_type": "code",
   "execution_count": 23,
   "metadata": {},
   "outputs": [
    {
     "data": {
      "image/png": "[encoded data removed]",
      "text/plain": [
       "<Figure size 432x288 with 1 Axes>"
      ]
     },
     "metadata": {},
     "output_type": "display_data"
    }
   ],
   "source": [
    "plt.title(\"Where they could be the numbers 7\")\n",
    "plt.axis(\"off\")\n",
    "plt.imshow(activation_maps[0, 7] * (activation_maps[0, 7] == activation_maps.max(0).max(0))) #keep only the max responses\n",
    "plt.show()"
   ]
  },
  {
   "cell_type": "code",
   "execution_count": 24,
   "metadata": {},
   "outputs": [
    {
     "data": {
      "image/png": "[encoded data removed]",
      "text/plain": [
       "<Figure size 432x288 with 1 Axes>"
      ]
     },
     "metadata": {},
     "output_type": "display_data"
    }
   ],
   "source": [
    "plt.title(\"Where they could be the numbers 2\")\n",
    "plt.axis(\"off\")\n",
    "plt.imshow(activation_maps[0, 2] * (activation_maps[0, 2] == activation_maps.max(0).max(0)))\n",
    "plt.show()"
   ]
  },
  {
   "cell_type": "markdown",
   "metadata": {},
   "source": [
    "pretty cool no ?\n",
    "\n",
    "## Autoencoder\n",
    "\n",
    "Now, let's try a very different thing : let's generate digits from random noise with autoencoder.\n",
    "\n",
    "Anautoencoder's task is to reproduce in output what i got in input by compressing the data in a latent space."
   ]
  },
  {
   "cell_type": "code",
   "execution_count": 25,
   "metadata": {},
   "outputs": [],
   "source": [
    "class Autoencoder(nn.Module):\n",
    "    def __init__(self, input_size, hu_size=[50, 20, 10]):\n",
    "        super(Autoencoder, self).__init__()\n",
    "        self.encoder = Encoder(input_size, hu_size)\n",
    "        self.decoder = Encoder(hu_size[-1], hu_size[::-1][1:] + [input_size], is_decoder=True)\n",
    "    \n",
    "    def forward(self, x):\n",
    "        return self.decoder(self.encoder(x))\n",
    "    \n",
    "class Encoder(nn.Module):\n",
    "    def __init__(self, input_size, hu_size, is_decoder=False):\n",
    "        super(Encoder, self).__init__()\n",
    "        L = [input_size] + hu_size\n",
    "        self.seq = []\n",
    "        for i in range(len(L) - 1):\n",
    "            if not is_decoder:\n",
    "                self.seq.append(nn.Dropout(.25))\n",
    "            self.seq.append(nn.Linear(L[i], L[i + 1]))\n",
    "            if not (is_decoder and i == len(L) - 2):\n",
    "                self.seq.append(nn.ReLU())\n",
    "        self.seq = nn.Sequential(*self.seq)\n",
    "    \n",
    "    def forward(self, x):\n",
    "        return self.seq(x)"
   ]
  },
  {
   "cell_type": "code",
   "execution_count": 26,
   "metadata": {},
   "outputs": [
    {
     "data": {
      "text/plain": [
       "Autoencoder(\n",
       "  (encoder): Encoder(\n",
       "    (seq): Sequential(\n",
       "      (0): Dropout(p=0.25)\n",
       "      (1): Linear(in_features=784, out_features=500, bias=True)\n",
       "      (2): ReLU()\n",
       "      (3): Dropout(p=0.25)\n",
       "      (4): Linear(in_features=500, out_features=200, bias=True)\n",
       "      (5): ReLU()\n",
       "      (6): Dropout(p=0.25)\n",
       "      (7): Linear(in_features=200, out_features=200, bias=True)\n",
       "      (8): ReLU()\n",
       "      (9): Dropout(p=0.25)\n",
       "      (10): Linear(in_features=200, out_features=100, bias=True)\n",
       "      (11): ReLU()\n",
       "    )\n",
       "  )\n",
       "  (decoder): Encoder(\n",
       "    (seq): Sequential(\n",
       "      (0): Linear(in_features=100, out_features=200, bias=True)\n",
       "      (1): ReLU()\n",
       "      (2): Linear(in_features=200, out_features=200, bias=True)\n",
       "      (3): ReLU()\n",
       "      (4): Linear(in_features=200, out_features=500, bias=True)\n",
       "      (5): ReLU()\n",
       "      (6): Linear(in_features=500, out_features=784, bias=True)\n",
       "    )\n",
       "  )\n",
       ")"
      ]
     },
     "execution_count": 26,
     "metadata": {},
     "output_type": "execute_result"
    }
   ],
   "source": [
    "latent_space_size = 100\n",
    "\n",
    "ae = Autoencoder(784, [500, 200, 200, latent_space_size])\n",
    "loss_function = nn.MSELoss() \n",
    "optimizer = optim.Adam(list(ae.parameters()))\n",
    "\n",
    "ae"
   ]
  },
  {
   "cell_type": "code",
   "execution_count": 27,
   "metadata": {},
   "outputs": [],
   "source": [
    "ae = ae.train()      \n",
    "#just one epoch...\n",
    "for i, (x, y) in enumerate(train_loader):                \n",
    "    if x.shape[0] != BATCH_SIZE:                         \n",
    "        continue\n",
    "    x = x.view([BATCH_SIZE, SIZE * SIZE]).to(DEVICE)  \n",
    "    y = x.to(DEVICE)                                   \n",
    "    pred = ae(x) \n",
    "    loss = loss_function(pred, y)     \n",
    "    optimizer.zero_grad()    \n",
    "    loss.backward()                         \n",
    "    optimizer.step()      "
   ]
  },
  {
   "cell_type": "code",
   "execution_count": 28,
   "metadata": {},
   "outputs": [
    {
     "data": {
      "image/png": "[encoded data removed]",
      "text/plain": [
       "<Figure size 432x288 with 1 Axes>"
      ]
     },
     "metadata": {},
     "output_type": "display_data"
    }
   ],
   "source": [
    "plt.title(\"Original Image\")\n",
    "plt.imshow(x[2].detach().numpy().reshape(28, 28))\n",
    "plt.axis(\"off\")\n",
    "plt.show()"
   ]
  },
  {
   "cell_type": "code",
   "execution_count": 29,
   "metadata": {},
   "outputs": [
    {
     "data": {
      "image/png": "[encoded data removed]",
      "text/plain": [
       "<Figure size 432x288 with 1 Axes>"
      ]
     },
     "metadata": {},
     "output_type": "display_data"
    }
   ],
   "source": [
    "plt.title(\"Reconstructed Image\")\n",
    "plt.imshow(ae.eval()(x[2].view([1, SIZE * SIZE])).detach().numpy().reshape((28, 28)))\n",
    "plt.axis(\"off\")\n",
    "plt.show()"
   ]
  },
  {
   "cell_type": "markdown",
   "metadata": {},
   "source": [
    "Now let's try to generate a digit by feefing the decoder with random numbers..."
   ]
  },
  {
   "cell_type": "code",
   "execution_count": 30,
   "metadata": {},
   "outputs": [
    {
     "data": {
      "image/png": "[encoded data removed]",
      "text/plain": [
       "<Figure size 432x288 with 1 Axes>"
      ]
     },
     "metadata": {},
     "output_type": "display_data"
    },
    {
     "data": {
      "image/png": "[encoded data removed]",
      "text/plain": [
       "<Figure size 432x288 with 1 Axes>"
      ]
     },
     "metadata": {},
     "output_type": "display_data"
    },
    {
     "data": {
      "image/png": "[encoded data removed]",
      "text/plain": [
       "<Figure size 432x288 with 1 Axes>"
      ]
     },
     "metadata": {},
     "output_type": "display_data"
    },
    {
     "data": {
      "image/png": "[encoded data removed]",
      "text/plain": [
       "<Figure size 432x288 with 1 Axes>"
      ]
     },
     "metadata": {},
     "output_type": "display_data"
    },
    {
     "data": {
      "image/png": "[encoded data removed]",
      "text/plain": [
       "<Figure size 432x288 with 1 Axes>"
      ]
     },
     "metadata": {},
     "output_type": "display_data"
    }
   ],
   "source": [
    "for i in range(5):\n",
    "    random_input = torch.rand(1, latent_space_size) ** 5 #power just to add more variance... not the best way I know...\n",
    "\n",
    "    plt.title(\"Number created from random noize\")\n",
    "    plt.imshow(ae.decoder.eval()(random_input).detach().numpy().reshape((28, 28)))\n",
    "    plt.axis(\"off\")\n",
    "    plt.show()"
   ]
  },
  {
   "cell_type": "markdown",
   "metadata": {},
   "source": [
    "At first look it's not so whahou, but there exists other ways to get better results.\n",
    "Some other kind of others autoencoders are :\n",
    "\n",
    "- convolutionnal autoencoder (just autoencoder with convolution)\n",
    "- denoising autoencoder (remove noise from a noisy image)\n",
    "- variationnal autoencoder (the best autoencoder for the more realist generated examples)\n",
    "\n",
    "Autoencoders were found as a good unsupervised way to initialize weights of a network.\n",
    "\n",
    "___Exercice___: _try to create a simple network upon the encoder part (the encoder will serve as features extractor and should be frozen)_..."
   ]
  },
  {
   "cell_type": "code",
   "execution_count": null,
   "metadata": {},
   "outputs": [],
   "source": []
  },
  {
   "cell_type": "markdown",
   "metadata": {},
   "source": [
    "## Transfer Learning\n",
    "\n",
    "Another interting part with the network is that the knowledge they learn (the features) can some times be transferable from one dataset to another.\n",
    "Also, as two dataset could be similar the features learned from one could also be helpfull on another.\n",
    "\n",
    "Our lenet like network is composed into two stages : the convolutionnal features extraction, the fully connected classifier.\n",
    "\n",
    "Here we will replace the fully connected classifier by another one to match the classification task on another dataset and we will keep the convolutionnal features learned.\n",
    "\n",
    "The new dataset is a subpart of the omniglot dataset, we will try to classify the chars of the Tifinagh alphabet. The chars looks like this :\n",
    "\n",
    "![c1](./imgs/Tifinagh/character54/0963_13.png)\n",
    "![c2](./imgs/Tifinagh/character40/0949_04.png)\n",
    "![c3](./imgs/Tifinagh/character12/0921_04.png)\n",
    "![c4](./imgs/Tifinagh/character06/0915_03.png)\n",
    "![c5](./imgs/Tifinagh/character38/0947_07.png)\n",
    "\n",
    "\n",
    "\n",
    "There are 55 classes (letters) and we only have 20 examples by class !\n",
    "We will train our classifier on the 15 first chars and test it on the last 5 for each class...\n",
    "To help avoiding too much overfitting we will also use image augmentation (create new ones by adding small transformations like rotation zoom etc.)\n",
    "\n",
    "As the dataset is not exacly formated there will be a small preprocessing step and will create a new custom pytorch class...\n",
    "\n",
    "⚠️ as there is more classes and less example, this task is less simple than MNIST ! generaly we take a network trained on an harder dataset with enought generalization (not the case of MNIST)..."
   ]
  },
  {
   "cell_type": "code",
   "execution_count": 31,
   "metadata": {},
   "outputs": [],
   "source": [
    "class TifinaghDataset(Dataset):\n",
    "    def __init__(self, train=True):\n",
    "        self.train = train\n",
    "        imgs_path = sorted(glob.glob(\"./imgs/Tifinagh/*/*.png\"))\n",
    "        if train:\n",
    "            imgs_path = list(filter(lambda im_path: int(im_path[-6:-4]) <= 15, imgs_path))\n",
    "        else:\n",
    "            imgs_path = list(filter(lambda im_path: int(im_path[-6:-4]) > 15, imgs_path))\n",
    "        self.imgs_path = imgs_path\n",
    "        self.transform = transforms.Compose(\n",
    "            (\n",
    "                [   #some transformation for the training samples\n",
    "                    #transforms.RandomRotation(15),\n",
    "                    transforms.CenterCrop(100),\n",
    "                    \n",
    "                ] if self.train else []\n",
    "            ) + [\n",
    "            transforms.Grayscale(),\n",
    "            transforms.Resize(28),                     #to get the same size input as the mnis dataset\n",
    "            transforms.ToTensor(),\n",
    "            transforms.Lambda(lambda t: 1. - t),\n",
    "            transforms.Normalize((0.1307,), (0.3081,)) #same normalization values as used in MNIST\n",
    "        ])\n",
    "    \n",
    "    def __getitem__(self, index):\n",
    "        img = Image.open(self.imgs_path[index])\n",
    "        lbl = int(self.imgs_path[index].split('Tifinagh/')[1].split('/')[0][-2:]) \n",
    "        return self.transform(img), lbl - 1\n",
    "    \n",
    "    def __len__(self):\n",
    "        return len(self.imgs_path)\n"
   ]
  },
  {
   "cell_type": "code",
   "execution_count": 32,
   "metadata": {},
   "outputs": [],
   "source": [
    "train_loader = torch.utils.data.DataLoader( \n",
    "    TifinaghDataset(train=True),\n",
    "    batch_size=BATCH_SIZE,\n",
    "    shuffle=True\n",
    ")\n",
    "\n",
    "test_loader = torch.utils.data.DataLoader( \n",
    "    TifinaghDataset(train=False),\n",
    "    batch_size=BATCH_SIZE,\n",
    "    shuffle=True\n",
    ")"
   ]
  },
  {
   "cell_type": "code",
   "execution_count": 33,
   "metadata": {},
   "outputs": [],
   "source": [
    "kab_net = LeNet(55)\n",
    "\n",
    "\n",
    "kab_net.conv = le_net.conv #transfert the features learn from mnist\n",
    "#freeze the conv to not erase them with the first pass of classifier learning...\n",
    "for p in kab_net.conv.parameters():\n",
    "    p.requires_grad = False\n",
    "    \n",
    "    \n",
    "\n",
    "#making the classifier non linear to get better performances\n",
    "kab_net.fc1 = nn.Sequential(\n",
    "    nn.Linear(135, 64),\n",
    "    nn.BatchNorm1d(64),\n",
    "    nn.ReLU(),\n",
    ")\n",
    "\n",
    "kab_net.fc2 = nn.Sequential(\n",
    "    nn.Linear(64, 55),\n",
    "    nn.BatchNorm1d(55),\n",
    "    nn.Softmax()\n",
    ")\n",
    " \n",
    "kab_net.fc = nn.Sequential(kab_net.fc1, kab_net.fc2) #fully connected contain 2 layers : 1hidden 1output\n"
   ]
  },
  {
   "cell_type": "code",
   "execution_count": 34,
   "metadata": {},
   "outputs": [],
   "source": [
    "optimizer = optim.Adam(list(kab_net.fc.parameters()), lr=.001)       #create an optimizer\n",
    "loss_function = nn.CrossEntropyLoss()                    #create a loss function (multic"
   ]
  },
  {
   "cell_type": "code",
   "execution_count": 35,
   "metadata": {},
   "outputs": [
    {
     "name": "stderr",
     "output_type": "stream",
     "text": [
      "/usr/local/lib/python3.6/site-packages/torch/nn/modules/container.py:91: UserWarning: Implicit dimension choice for softmax has been deprecated. Change the call to include dim=X as an argument.\n",
      "  input = module(input)\n"
     ]
    },
    {
     "name": "stdout",
     "output_type": "stream",
     "text": [
      "3.995007963741527\t3.973795161527746\n",
      "3.837632226008995\t3.7615618144764618\n",
      "3.716924686057895\t3.6281314036425423\n",
      "3.6046982185513365\t3.5154762127820183\n",
      "3.504032102285647\t3.440103671130012\n",
      "3.422616766948326\t3.401657314861522\n",
      "3.3785878303004244\t3.3930451168733486\n",
      "3.3308519008112887\t3.3712104348575367\n",
      "3.3033029285131716\t3.3350376521839813\n",
      "3.2644973595937095\t3.3231655289145077\n",
      "3.248381203296138\t3.3136503976934097\n",
      "3.219443952336031\t3.3189191818237305\n",
      "3.207827568054199\t3.310023027307847\n",
      "3.199453639049156\t3.3049775151645435\n",
      "3.200333469054278\t3.311623320860021\n",
      "3.1841139746647253\t3.3008595073924347\n",
      "3.1753651114071118\t3.3042620490579044\n",
      "3.165605077556535\t3.2965886733111214\n",
      "3.1674738584780227\t3.2971631919636444\n",
      "3.1596421447454714\t3.2966518121607162\n"
     ]
    },
    {
     "data": {
      "image/png": "[encoded data removed]",
      "text/plain": [
       "<Figure size 432x288 with 1 Axes>"
      ]
     },
     "metadata": {},
     "output_type": "display_data"
    }
   ],
   "source": [
    "loss_history = []                                          \n",
    "loss_history_val = []                                       \n",
    "\n",
    "for epochs in range(200):                                    \n",
    "    #training\n",
    "    kab_net = kab_net.train()                    \n",
    "    mean_loss = 0.                                          \n",
    "    for i, (x, y) in enumerate(train_loader):               \n",
    "        if x.shape[0] != BATCH_SIZE:                    \n",
    "            continue\n",
    "        x = x.view([BATCH_SIZE, 1, SIZE, SIZE]).to(DEVICE)    \n",
    "        y = y.to(DEVICE)                                     \n",
    "        pred = kab_net(x)                               \n",
    "        loss = loss_function(pred, y)                        \n",
    "        mean_loss += loss.item()                          \n",
    "        optimizer.zero_grad()                            \n",
    "        loss.backward()                                   \n",
    "        optimizer.step()                                  \n",
    "    mean_loss /= float(i)                                \n",
    "    loss_history.append(float(mean_loss))\n",
    "    if epochs % 10 == 0:\n",
    "        print(mean_loss, end='\\t')\n",
    "    \n",
    "    #validation\n",
    "    kab_net = kab_net.eval()                  \n",
    "    mean_loss_val = 0.\n",
    "    for i, (x, y) in enumerate(test_loader):\n",
    "        if x.shape[0] != BATCH_SIZE:\n",
    "            continue\n",
    "        x = x.view([BATCH_SIZE, 1, SIZE, SIZE]).to(DEVICE)\n",
    "        y = y.to(DEVICE)\n",
    "        pred = kab_net(x)\n",
    "        loss = loss_function(pred, y)\n",
    "        mean_loss_val += loss.item()\n",
    "    mean_loss_val /= float(i)\n",
    "    loss_history_val.append(float(mean_loss_val))\n",
    "    if epochs % 10 == 0:\n",
    "        print(mean_loss_val)\n",
    "        \n",
    "plt.title(\"Losses (blue train, orange validation)\")\n",
    "plt.plot(loss_history)\n",
    "plt.plot(loss_history_val)\n",
    "plt.show()\n"
   ]
  },
  {
   "cell_type": "markdown",
   "metadata": {},
   "source": [
    "Now we can even transfert the first fully connected layer knwoledge as input to a much powerfull classifier ! "
   ]
  },
  {
   "cell_type": "code",
   "execution_count": 36,
   "metadata": {},
   "outputs": [],
   "source": [
    "class KabNetFeatExtractor(nn.Module):\n",
    "    def __init__(self):\n",
    "        super(KabNetFeatExtractor, self).__init__()\n",
    "        self.conv   = kab_net.conv\n",
    "        self.linear = kab_net.fc1\n",
    "        \n",
    "    def forward(self, x):\n",
    "        out = self.conv(x)\n",
    "        out = out.reshape(out.size(0), -1)\n",
    "        out = self.linear(out)\n",
    "        return out"
   ]
  },
  {
   "cell_type": "code",
   "execution_count": 37,
   "metadata": {},
   "outputs": [
    {
     "data": {
      "text/plain": [
       "KabNetFeatExtractor(\n",
       "  (conv): Sequential(\n",
       "    (0): Conv2d(1, 6, kernel_size=(5, 5), stride=(1, 1), padding=(1, 1))\n",
       "    (1): ReLU()\n",
       "    (2): MaxPool2d(kernel_size=(2, 2), stride=(2, 2), padding=0, dilation=1, ceil_mode=False)\n",
       "    (3): Conv2d(6, 15, kernel_size=(3, 3), stride=(1, 1))\n",
       "    (4): ReLU()\n",
       "    (5): MaxPool2d(kernel_size=(2, 2), stride=(2, 2), padding=0, dilation=1, ceil_mode=False)\n",
       "    (6): Conv2d(15, 15, kernel_size=(3, 3), stride=(1, 1))\n",
       "    (7): ReLU()\n",
       "  )\n",
       "  (linear): Sequential(\n",
       "    (0): Linear(in_features=135, out_features=64, bias=True)\n",
       "    (1): BatchNorm1d(64, eps=1e-05, momentum=0.1, affine=True, track_running_stats=True)\n",
       "    (2): ReLU()\n",
       "  )\n",
       ")"
      ]
     },
     "execution_count": 37,
     "metadata": {},
     "output_type": "execute_result"
    }
   ],
   "source": [
    "kab_net_features_extractor = KabNetFeatExtractor()\n",
    "kab_net_features_extractor"
   ]
  },
  {
   "cell_type": "code",
   "execution_count": 38,
   "metadata": {},
   "outputs": [],
   "source": [
    "train_loader_all_dataset = torch.utils.data.DataLoader( \n",
    "    TifinaghDataset(train=True),\n",
    "    batch_size=len(TifinaghDataset(train=True)),\n",
    "    shuffle=True\n",
    ")\n",
    "\n",
    "test_loader_all_dataset = torch.utils.data.DataLoader( \n",
    "    TifinaghDataset(train=False),\n",
    "    batch_size=len(TifinaghDataset(train=False)),\n",
    "    shuffle=True\n",
    ")"
   ]
  },
  {
   "cell_type": "code",
   "execution_count": 39,
   "metadata": {},
   "outputs": [],
   "source": [
    "#just get all the dataset...\n",
    "for x_train, y_train in train_loader_all_dataset:\n",
    "    pass\n",
    "\n",
    "for x_test, y_test in test_loader_all_dataset:\n",
    "    pass"
   ]
  },
  {
   "cell_type": "code",
   "execution_count": 40,
   "metadata": {},
   "outputs": [],
   "source": [
    "x_features_train = kab_net_features_extractor(x_train)\n",
    "x_features_test  = kab_net_features_extractor(x_test)\n",
    "\n",
    "\n",
    "x_features_train = x_features_train.detach().numpy()\n",
    "x_features_test  = x_features_test.detach().numpy()"
   ]
  },
  {
   "cell_type": "code",
   "execution_count": 41,
   "metadata": {},
   "outputs": [
    {
     "data": {
      "text/plain": [
       "RandomForestClassifier(bootstrap=True, class_weight=None, criterion='gini',\n",
       "            max_depth=None, max_features='auto', max_leaf_nodes=None,\n",
       "            min_impurity_decrease=0.0, min_impurity_split=None,\n",
       "            min_samples_leaf=1, min_samples_split=2,\n",
       "            min_weight_fraction_leaf=0.0, n_estimators=500, n_jobs=1,\n",
       "            oob_score=False, random_state=None, verbose=0,\n",
       "            warm_start=False)"
      ]
     },
     "execution_count": 41,
     "metadata": {},
     "output_type": "execute_result"
    }
   ],
   "source": [
    "clf = RandomForestClassifier(500)\n",
    "clf.fit(x_features_train, y_train.detach().numpy())"
   ]
  },
  {
   "cell_type": "code",
   "execution_count": 42,
   "metadata": {},
   "outputs": [
    {
     "name": "stdout",
     "output_type": "stream",
     "text": [
      "accuracy :  0.8036363636363636\n"
     ]
    }
   ],
   "source": [
    "print(\n",
    "    \"accuracy : \",\n",
    "    sum(clf.predict(x_features_test) == y_test.detach().numpy()) / len(x_features_test)\n",
    ") #on 55 classes !!! :) pretty cool non ??!!"
   ]
  },
  {
   "cell_type": "markdown",
   "metadata": {},
   "source": [
    "Let's compare with a simple random forest without features extraction process..."
   ]
  },
  {
   "cell_type": "code",
   "execution_count": 43,
   "metadata": {},
   "outputs": [
    {
     "data": {
      "text/plain": [
       "RandomForestClassifier(bootstrap=True, class_weight=None, criterion='gini',\n",
       "            max_depth=None, max_features='auto', max_leaf_nodes=None,\n",
       "            min_impurity_decrease=0.0, min_impurity_split=None,\n",
       "            min_samples_leaf=1, min_samples_split=2,\n",
       "            min_weight_fraction_leaf=0.0, n_estimators=500, n_jobs=1,\n",
       "            oob_score=False, random_state=None, verbose=0,\n",
       "            warm_start=False)"
      ]
     },
     "execution_count": 43,
     "metadata": {},
     "output_type": "execute_result"
    }
   ],
   "source": [
    "clf_n = RandomForestClassifier(500)\n",
    "clf_n.fit(x_train.view(x_train.shape[0], -1).detach().numpy(), y_train.detach().numpy())"
   ]
  },
  {
   "cell_type": "code",
   "execution_count": 44,
   "metadata": {},
   "outputs": [
    {
     "data": {
      "text/plain": [
       "0.6436363636363637"
      ]
     },
     "execution_count": 44,
     "metadata": {},
     "output_type": "execute_result"
    }
   ],
   "source": [
    "sum(clf_n.predict(x_test.view(x_test.shape[0], -1).detach().numpy()) == y_test.detach().numpy()) / len(x_features_test)"
   ]
  },
  {
   "cell_type": "markdown",
   "metadata": {},
   "source": [
    "It's seems we got a pretty good improvment no ? and all the convolutions features extraction come from a different dataset !!!\n",
    "Whaou !!!\n",
    "\n",
    "___Exercice___: _try to make a 2D visualisation (scatter plot) with the extracted features and add them a color by class to see how it spread (try PCA and TSNE - both in sklearn)_"
   ]
  },
  {
   "cell_type": "code",
   "execution_count": null,
   "metadata": {},
   "outputs": [],
   "source": []
  }
 ],
 "metadata": {
  "kernelspec": {
   "display_name": "Python 3",
   "language": "python",
   "name": "python3"
  },
  "language_info": {
   "codemirror_mode": {
    "name": "ipython",
    "version": 3
   },
   "file_extension": ".py",
   "mimetype": "text/x-python",
   "name": "python",
   "nbconvert_exporter": "python",
   "pygments_lexer": "ipython3",
   "version": "3.6.5"
  }
 },
 "nbformat": 4,
 "nbformat_minor": 2
}
