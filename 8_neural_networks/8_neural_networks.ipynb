{
 "cells": [
  {
   "cell_type": "markdown",
   "metadata": {},
   "source": [
    "# Neural Networks\n",
    "\n",
    "Let's do a quick tour of neural networks with MNIST and PyTorch.\n",
    "\n",
    "MNIST is a toy dataset containing digit images of 28x28 in gray scale. \n",
    "For more infos about MNIST take a look the Lecun's [page](http://yann.lecun.com/exdb/mnist/) with some decription and results of differents architectures...\n",
    "\n",
    "## Libraries"
   ]
  },
  {
   "cell_type": "code",
   "execution_count": 1,
   "metadata": {},
   "outputs": [],
   "source": [
    "import torch\n",
    "import torch.nn as nn\n",
    "import torch.optim as optim\n",
    "\n",
    "from torchvision import datasets, transforms\n",
    "\n",
    "import glob\n",
    "import random\n",
    "import numpy as np\n",
    "import matplotlib.pyplot as plt\n",
    "\n",
    "from tqdm import tqdm\n",
    "from PIL import Image\n",
    "\n",
    "%matplotlib inline\n",
    "\n",
    "DEVICE = 'cpu'\n",
    "BATCH_SIZE = 16\n",
    "NB_CLASSES = 10\n",
    "SIZE = 28"
   ]
  },
  {
   "cell_type": "markdown",
   "metadata": {},
   "source": [
    "## Dataset\n",
    "\n",
    "Download the data and load the datasets..."
   ]
  },
  {
   "cell_type": "code",
   "execution_count": 2,
   "metadata": {},
   "outputs": [],
   "source": [
    "train_loader = torch.utils.data.DataLoader(\n",
    "    datasets.MNIST(\n",
    "        '.',                                            #download in the current directory\n",
    "        train = True,                                   #donwload the training base\n",
    "        download = True,                                #allow downloading if not already downloaded\n",
    "        transform = transforms.Compose([                #operations applied on the images before passing to the NN\n",
    "            transforms.ToTensor(),                      #just convert the image into a tensor (required)\n",
    "            transforms.Normalize((0.1307,), (0.3081,))  #normalize the image with mean and variance\n",
    "        ])\n",
    "    ),\n",
    "    batch_size=BATCH_SIZE,                              #set the batch size (explicit enought I think...)\n",
    "    shuffle=True                                        #allow the dataset to be shuffled\n",
    ")\n",
    "\n",
    "test_loader = torch.utils.data.DataLoader(              #same thing for the test\n",
    "    datasets.MNIST(\n",
    "        '.',\n",
    "        train=False,                                    #load the test set\n",
    "        transform=transforms.Compose([\n",
    "            transforms.ToTensor(),\n",
    "            transforms.Normalize((0.1307,), (0.3081,))\n",
    "        ])\n",
    "    ),\n",
    "    batch_size=BATCH_SIZE,\n",
    "    shuffle=True\n",
    ")"
   ]
  },
  {
   "cell_type": "markdown",
   "metadata": {},
   "source": [
    "## Fully Connected Networks\n",
    "\n",
    "### Linear classifier\n",
    "\n",
    "Let's build the simplest linear classifier we can to get firsts results..."
   ]
  },
  {
   "cell_type": "code",
   "execution_count": 3,
   "metadata": {},
   "outputs": [],
   "source": [
    "class LinearClassifier(nn.Module):\n",
    "    def __init__(self, nb_classes=10):\n",
    "        super(LinearClassifier, self).__init__()\n",
    "        self.linear = nn.Sequential(\n",
    "            nn.Linear(784, nb_classes),            #784 because 28x28, from 784 input to nb_classes output\n",
    "            nn.Softmax(1)                          #1 to tell on wich dimension perform the softmax normalization\n",
    "        )\n",
    "        \n",
    "    def forward(self, x):\n",
    "        return self.linear(x)\n",
    "    "
   ]
  },
  {
   "cell_type": "code",
   "execution_count": 4,
   "metadata": {},
   "outputs": [
    {
     "name": "stdout",
     "output_type": "stream",
     "text": [
      "LinearClassifier(\n",
      "  (linear): Sequential(\n",
      "    (0): Linear(in_features=784, out_features=10, bias=True)\n",
      "    (1): Softmax()\n",
      "  )\n",
      ")\n"
     ]
    }
   ],
   "source": [
    "linear_model = LinearClassifier(NB_CLASSES)              #instanciate the model\n",
    "optimizer = optim.Adam(list(linear_model.parameters()))  #create an optimizer\n",
    "loss_function = nn.CrossEntropyLoss()                    #create a loss function (multiclass -> cross entropy)\n",
    "\n",
    "print(linear_model)                                      #quick look to our naive model"
   ]
  },
  {
   "cell_type": "code",
   "execution_count": 5,
   "metadata": {},
   "outputs": [
    {
     "name": "stdout",
     "output_type": "stream",
     "text": [
      "1.6490618208307493\t1.5578279846753829\n",
      "1.5505053958564672\t1.543606046300668\n",
      "1.5430939964816932\t1.5407761169167666\n",
      "1.539563350882267\t1.5441124744904346\n",
      "1.5364467313557377\t1.5378899495953169\n",
      "1.5343727171659534\t1.5363104513440378\n",
      "1.5324571951130734\t1.5382542543304272\n",
      "1.531697560927492\t1.5339720180401435\n",
      "1.5300332401300565\t1.5349868868406003\n",
      "1.5293989166255695\t1.534910451907378\n",
      "1.5284360115545277\t1.535192042398147\n",
      "1.5275164892209883\t1.5356591192957683\n",
      "1.526443505452518\t1.5370847856005032\n",
      "1.526395216914106\t1.5357491905108476\n",
      "1.525424586133532\t1.5360071953290548\n",
      "1.525150092514905\t1.5352140057545443\n",
      "1.524318059656454\t1.5340241615970929\n",
      "1.5239493640526736\t1.5328234569766583\n",
      "1.5233119595810776\t1.535827891757855\n",
      "1.5230528856156889\t1.5339751959993289\n"
     ]
    },
    {
     "data": {
      "image/png": "[encoded data removed]",
      "text/plain": [
       "<Figure size 432x288 with 1 Axes>"
      ]
     },
     "metadata": {},
     "output_type": "display_data"
    }
   ],
   "source": [
    "loss_history = []                                            #to record the training loss\n",
    "loss_history_val = []                                        #to record the testing  loss\n",
    "\n",
    "for epochs in range(20):                                     #let's run on 20 epochs\n",
    "    #training\n",
    "    linear_model = linear_model.train()                      #put our model in training mode (allow learning)\n",
    "    mean_loss = 0.                                           #to compute the mean loss\n",
    "    for i, (x, y) in enumerate(train_loader):                #load by batches the Xs and label associated\n",
    "        if x.shape[0] != BATCH_SIZE:                         #just checking the batch size is good\n",
    "            continue\n",
    "        x = x.view([BATCH_SIZE, SIZE * SIZE]).to(DEVICE)     #reshape the data to match the network input size\n",
    "        y = y.to(DEVICE)                                     #putting the labels on the device (cpu or cuda, just to be generic)\n",
    "        pred = linear_model(x)                               #compute the model predictions for one batch\n",
    "        loss = loss_function(pred, y)                        #compute the loss for one batch\n",
    "        mean_loss += loss.item()                             #actualise the mean loss\n",
    "        optimizer.zero_grad()                                #reseting the gradient of the previous iteration\n",
    "        loss.backward()                                      #accumulate the gradient\n",
    "        optimizer.step()                                     #update parameters\n",
    "    mean_loss /= float(i)                                    #compute the mean loss\n",
    "    loss_history.append(float(mean_loss))\n",
    "    print(mean_loss, end='\\t')\n",
    "    \n",
    "    #validation\n",
    "    linear_model = linear_model.eval()                       #put the network in eval mode\n",
    "    mean_loss_val = 0.\n",
    "    for i, (x, y) in enumerate(test_loader):\n",
    "        if x.shape[0] != BATCH_SIZE:\n",
    "            continue\n",
    "        x = x.view([BATCH_SIZE, SIZE * SIZE]).to(DEVICE)\n",
    "        y = y.to(DEVICE)\n",
    "        pred = linear_model(x)\n",
    "        loss = loss_function(pred, y)\n",
    "        mean_loss_val += loss.item()\n",
    "    mean_loss_val /= float(i)\n",
    "    loss_history_val.append(float(mean_loss_val))\n",
    "    print(mean_loss_val)\n",
    "        \n",
    "plt.title(\"Losses (blue train, orange validation)\")\n",
    "plt.plot(loss_history)\n",
    "plt.plot(loss_history_val)\n",
    "plt.show()\n"
   ]
  },
  {
   "cell_type": "code",
   "execution_count": 24,
   "metadata": {},
   "outputs": [
    {
     "name": "stdout",
     "output_type": "stream",
     "text": [
      "accuracy : 0.9314903846153846 %\n"
     ]
    }
   ],
   "source": [
    "#compute accuracy\n",
    "linear_model = linear_model.eval()\n",
    "acc = 0.\n",
    "for i, (x, y) in enumerate(test_loader):\n",
    "    x = x.view([BATCH_SIZE, SIZE * SIZE]).to(DEVICE)\n",
    "    y = y.to(DEVICE)\n",
    "    pred = linear_model(x)\n",
    "    acc += (pred.max(1)[1] == y).detach().numpy().sum() / float(BATCH_SIZE)\n",
    "acc /= i\n",
    "print(\"accuracy :\", acc, \"%\")"
   ]
  },
  {
   "cell_type": "markdown",
   "metadata": {},
   "source": [
    "Not so bad, but it's well know that MNIST is only a toy dataset with which one you can super easily get good scores...\n",
    "\n",
    "So, let's try to improve our score by adding an hidden layer... it's still not 100% ! 😉\n",
    "\n",
    "### One hidden unit network"
   ]
  },
  {
   "cell_type": "code",
   "execution_count": 25,
   "metadata": {},
   "outputs": [],
   "source": [
    "class FullyConnectedNeuralNetwork(nn.Module):\n",
    "    def __init__(self, nb_classes=10):\n",
    "        super(FullyConnectedNeuralNetwork, self).__init__()\n",
    "        self.fc = nn.Sequential(\n",
    "            nn.Linear(784, 300),                           #let's put randomly 300 neurons in the hidden unit\n",
    "            nn.ReLU(),                                     #let's add some non linearity with ReLU\n",
    "            nn.Linear(300, nb_classes),                    #from 300 HU to nb_classes\n",
    "            nn.Softmax(1)\n",
    "        )\n",
    "        \n",
    "    def forward(self, x):\n",
    "        return self.fc(x)"
   ]
  },
  {
   "cell_type": "code",
   "execution_count": 26,
   "metadata": {},
   "outputs": [
    {
     "name": "stdout",
     "output_type": "stream",
     "text": [
      "FullyConnectedNeuralNetwork(\n",
      "  (fc): Sequential(\n",
      "    (0): Linear(in_features=784, out_features=300, bias=True)\n",
      "    (1): ReLU()\n",
      "    (2): Linear(in_features=300, out_features=10, bias=True)\n",
      "    (3): Softmax()\n",
      "  )\n",
      ")\n"
     ]
    }
   ],
   "source": [
    "fc_classifier = FullyConnectedNeuralNetwork(NB_CLASSES)   #instanciate the model\n",
    "optimizer = optim.Adam(list(fc_classifier.parameters()))  #create an optimizer\n",
    "loss_function = nn.CrossEntropyLoss()                     #create a loss function (multiclass -> cross entropy)\n",
    "\n",
    "print(fc_classifier)                                      #quick look to our naive model"
   ]
  },
  {
   "cell_type": "code",
   "execution_count": 29,
   "metadata": {},
   "outputs": [
    {
     "name": "stdout",
     "output_type": "stream",
     "text": [
      "1.484967679524619\t1.4930899309424253\n",
      "1.485046010139498\t1.493564096207802\n"
     ]
    },
    {
     "data": {
      "image/png": "[encoded data removed]",
      "text/plain": [
       "<Figure size 432x288 with 1 Axes>"
      ]
     },
     "metadata": {},
     "output_type": "display_data"
    }
   ],
   "source": [
    "loss_history = []                                            #to record the training loss\n",
    "loss_history_val = []                                        #to record the testing  loss\n",
    "\n",
    "for epochs in range(10):                                     #let's run on 10 epochs\n",
    "    #training\n",
    "    fc_classifier = fc_classifier.train()                    #put our model in training mode (allow learning)\n",
    "    mean_loss = 0.                                           #to compute the mean loss\n",
    "    for i, (x, y) in enumerate(train_loader):                #load by batches the Xs and label associated\n",
    "        if x.shape[0] != BATCH_SIZE:                         #just checking the batch size is good\n",
    "            continue\n",
    "        x = x.view([BATCH_SIZE, SIZE * SIZE]).to(DEVICE)     #reshape the data to match the network input size\n",
    "        y = y.to(DEVICE)                                     #putting the labels on the device (cpu or cuda, just to be generic)\n",
    "        pred = fc_classifier(x)                              #compute the model predictions for one batch\n",
    "        loss = loss_function(pred, y)                        #compute the loss for one batch\n",
    "        mean_loss += loss.item()                             #actualise the mean loss\n",
    "        optimizer.zero_grad()                                #reseting the gradient of the previous iteration\n",
    "        loss.backward()                                      #accumulate the gradient\n",
    "        optimizer.step()                                     #update parameters\n",
    "    mean_loss /= float(i)                                    #compute the mean loss\n",
    "    loss_history.append(float(mean_loss))\n",
    "    print(mean_loss, end='\\t')\n",
    "    \n",
    "    #validation\n",
    "    fc_classifier = fc_classifier.eval()                      #put the network in eval mode\n",
    "    mean_loss_val = 0.\n",
    "    for i, (x, y) in enumerate(test_loader):\n",
    "        if x.shape[0] != BATCH_SIZE:\n",
    "            continue\n",
    "        x = x.view([BATCH_SIZE, SIZE * SIZE]).to(DEVICE)\n",
    "        y = y.to(DEVICE)\n",
    "        pred = fc_classifier(x)\n",
    "        loss = loss_function(pred, y)\n",
    "        mean_loss_val += loss.item()\n",
    "    mean_loss_val /= float(i)\n",
    "    loss_history_val.append(float(mean_loss_val))\n",
    "    print(mean_loss_val)\n",
    "        \n",
    "plt.title(\"Losses (blue train, orange validation)\")\n",
    "plt.plot(loss_history)\n",
    "plt.plot(loss_history_val)\n",
    "plt.show()\n"
   ]
  },
  {
   "cell_type": "code",
   "execution_count": 30,
   "metadata": {},
   "outputs": [
    {
     "name": "stdout",
     "output_type": "stream",
     "text": [
      "accuracy : 0.9717548076923077 %\n"
     ]
    }
   ],
   "source": [
    "#compute accuracy\n",
    "fc_classifier = fc_classifier.eval()\n",
    "acc = 0.\n",
    "for i, (x, y) in enumerate(test_loader):\n",
    "    x = x.view([BATCH_SIZE, SIZE * SIZE]).to(DEVICE)\n",
    "    y = y.to(DEVICE)\n",
    "    pred = fc_classifier(x)\n",
    "    acc += (pred.max(1)[1] == y).detach().numpy().sum() / float(BATCH_SIZE)\n",
    "acc /= i\n",
    "print(\"accuracy :\", acc, \"%\")"
   ]
  },
  {
   "cell_type": "markdown",
   "metadata": {},
   "source": [
    "Wahouuu !! much better score 😃 !!\n",
    "\n",
    "But, event if it worked well, just putting one hidden unit is absolutely not enoughts on real world images (enven on CIFAR10)... 😞 it'll add too many parameters and start to overfit...\n",
    "\n",
    "Also, even if we could stop here, we will see what revolutionnized the image wolds bellow ! 😍\n"
   ]
  },
  {
   "cell_type": "markdown",
   "metadata": {},
   "source": [
    "___Exercice___: _try to code a network with 784 inputs, 50 neurons in the first hidden layer, 20 neurons in the second hidden layer and 10 ouputs, then test it on MNIST_..."
   ]
  },
  {
   "cell_type": "code",
   "execution_count": null,
   "metadata": {},
   "outputs": [],
   "source": []
  },
  {
   "cell_type": "markdown",
   "metadata": {},
   "source": [
    "## ConvNet\n",
    "\n",
    "Neural networks are pretty old, but since 2012 there is a huge growth of interest since _AlexNet_ (an very fat neural network) won the ImageNet challenge by dropping the error from 26 to 16 (a very very huge improvment).\n",
    "\n",
    "The secret of the modern networks for images (not anymore a sercret for anybody) is the convolution ! \n",
    "This operation allow us to add more layer with much fewer parameters and help the network to generalize much more... ✅\n",
    "\n",
    "Let's start first to implement a very simple network : the LeNet architecture.\n",
    "\n",
    "![lenet](./imgs/lenet.png)\n",
    "\n",
    "The size will not be exactly the sames because our images are 28x28 instead of 32x32 like in the picture..."
   ]
  },
  {
   "cell_type": "code",
   "execution_count": 39,
   "metadata": {},
   "outputs": [],
   "source": [
    "class LeNet(nn.Module):\n",
    "    def __init__(self, nb_classes=10):\n",
    "        super(LeNet, self).__init__()\n",
    "        self.conv = nn.Sequential(\n",
    "            nn.Conv2d(1, 6, 5, padding=1), #1 input channel (grayscale), 6 filters (= 6 outputs channnels), filter size 5\n",
    "            nn.ReLU(),\n",
    "            nn.MaxPool2d((2, 2)),          #reduce the channels output size by 2 (taking the max between 2 adjacent pixels)\n",
    "            nn.Conv2d(6, 15, 3),           #6 inputs, 15 ouputs\n",
    "            nn.ReLU(),\n",
    "            nn.MaxPool2d((2, 2)),\n",
    "            nn.Conv2d(15, 15, 3), \n",
    "            nn.ReLU()\n",
    "        )\n",
    "        self.fc = nn.Sequential(\n",
    "            nn.Linear(135, nb_classes),    #put a fully connected layer at the end of the conv features extraction\n",
    "            nn.Softmax(1)\n",
    "        )\n",
    "        \n",
    "    def forward(self, x):\n",
    "        out = self.conv(x)                  #extract the conv features\n",
    "        out = out.reshape(out.size(0), -1)  #flatten before passing to fully connected\n",
    "        out = self.fc(out)                  #classify\n",
    "        return out\n",
    "        \n"
   ]
  },
  {
   "cell_type": "code",
   "execution_count": 40,
   "metadata": {},
   "outputs": [
    {
     "name": "stdout",
     "output_type": "stream",
     "text": [
      "LeNet(\n",
      "  (conv): Sequential(\n",
      "    (0): Conv2d(1, 6, kernel_size=(5, 5), stride=(1, 1), padding=(1, 1))\n",
      "    (1): ReLU()\n",
      "    (2): MaxPool2d(kernel_size=(2, 2), stride=(2, 2), padding=0, dilation=1, ceil_mode=False)\n",
      "    (3): Conv2d(6, 15, kernel_size=(3, 3), stride=(1, 1))\n",
      "    (4): ReLU()\n",
      "    (5): MaxPool2d(kernel_size=(2, 2), stride=(2, 2), padding=0, dilation=1, ceil_mode=False)\n",
      "    (6): Conv2d(15, 15, kernel_size=(3, 3), stride=(1, 1))\n",
      "    (7): ReLU()\n",
      "  )\n",
      "  (fc): Sequential(\n",
      "    (0): Linear(in_features=135, out_features=10, bias=True)\n",
      "    (1): Softmax()\n",
      "  )\n",
      ")\n"
     ]
    }
   ],
   "source": [
    "le_net = LeNet(NB_CLASSES)   \n",
    "optimizer = optim.Adam(list(le_net.parameters()))  \n",
    "loss_function = nn.CrossEntropyLoss()                 \n",
    "\n",
    "print(le_net)           "
   ]
  },
  {
   "cell_type": "code",
   "execution_count": 41,
   "metadata": {},
   "outputs": [
    {
     "name": "stdout",
     "output_type": "stream",
     "text": [
      "1.6067160167958647\t1.4985209145607092\n",
      "1.495994050396573\t1.492630808781355\n",
      "1.4886531448262506\t1.4883484911078062\n",
      "1.4860588009435673\t1.4862615500505154\n",
      "1.4842584446990734\t1.4848807427363517\n",
      "1.4827731541233973\t1.4843578787568288\n",
      "1.4810587296202267\t1.4824553116773949\n",
      "1.4809923887125618\t1.4827015608167038\n",
      "1.480675581456121\t1.4817739790066695\n",
      "1.4810220723026242\t1.4810469737037635\n"
     ]
    },
    {
     "data": {
      "image/png": "[encoded data removed]",
      "text/plain": [
       "<Figure size 432x288 with 1 Axes>"
      ]
     },
     "metadata": {},
     "output_type": "display_data"
    }
   ],
   "source": [
    "loss_history = []                                            #to record the training loss\n",
    "loss_history_val = []                                        #to record the testing  loss\n",
    "\n",
    "for epochs in range(10):                                     #let's run on 10 epochs\n",
    "    #training\n",
    "    le_net = le_net.train()                                  #put our model in training mode (allow learning)\n",
    "    mean_loss = 0.                                           #to compute the mean loss\n",
    "    for i, (x, y) in enumerate(train_loader):                #load by batches the Xs and label associated\n",
    "        if x.shape[0] != BATCH_SIZE:                         #just checking the batch size is good\n",
    "            continue\n",
    "        x = x.view([BATCH_SIZE, 1, SIZE, SIZE]).to(DEVICE)   #<!> the shape are not the same (an image 2D is passed)\n",
    "        y = y.to(DEVICE)                                     #putting the labels on the device (cpu or cuda, just to be generic)\n",
    "        pred = le_net(x)                                     #compute the model predictions for one batch\n",
    "        loss = loss_function(pred, y)                        #compute the loss for one batch\n",
    "        mean_loss += loss.item()                             #actualise the mean loss\n",
    "        optimizer.zero_grad()                                #reseting the gradient of the previous iteration\n",
    "        loss.backward()                                      #accumulate the gradient\n",
    "        optimizer.step()                                     #update parameters\n",
    "    mean_loss /= float(i)                                    #compute the mean loss\n",
    "    loss_history.append(float(mean_loss))\n",
    "    print(mean_loss, end='\\t')\n",
    "    \n",
    "    #validation\n",
    "    le_net = le_net.eval()                                   #put the network in eval mode\n",
    "    mean_loss_val = 0.\n",
    "    for i, (x, y) in enumerate(test_loader):\n",
    "        if x.shape[0] != BATCH_SIZE:\n",
    "            continue\n",
    "        x = x.view([BATCH_SIZE, 1, SIZE, SIZE]).to(DEVICE)\n",
    "        y = y.to(DEVICE)\n",
    "        pred = le_net(x)\n",
    "        loss = loss_function(pred, y)\n",
    "        mean_loss_val += loss.item()\n",
    "    mean_loss_val /= float(i)\n",
    "    loss_history_val.append(float(mean_loss_val))\n",
    "    print(mean_loss_val)\n",
    "        \n",
    "plt.title(\"Losses (blue train, orange validation)\")\n",
    "plt.plot(loss_history)\n",
    "plt.plot(loss_history_val)\n",
    "plt.show()\n"
   ]
  },
  {
   "cell_type": "code",
   "execution_count": 46,
   "metadata": {},
   "outputs": [
    {
     "name": "stdout",
     "output_type": "stream",
     "text": [
      "accuracy : 0.9839743589743589 %\n"
     ]
    }
   ],
   "source": [
    "#compute accuracy\n",
    "le_net = le_net.eval()\n",
    "acc = 0.\n",
    "for i, (x, y) in enumerate(test_loader):\n",
    "    x = x.view([BATCH_SIZE, 1, SIZE, SIZE]).to(DEVICE)\n",
    "    y = y.to(DEVICE)\n",
    "    pred = le_net(x)\n",
    "    acc += (pred.max(1)[1] == y).detach().numpy().sum() / float(BATCH_SIZE)\n",
    "acc /= i\n",
    "print(\"accuracy :\", acc, \"%\")"
   ]
  },
  {
   "cell_type": "markdown",
   "metadata": {},
   "source": [
    "Whaou !!! another score improvment !!! not so spectacular, but think: the last percents are always the harder to get, so it's still a pretty good improvment ! \n",
    "\n",
    "But, you know there is an other hidden improvment : the size of the network...\n",
    "\n",
    "Let's compare how many parameters the fully connected network had and how few our stupid conv net has :"
   ]
  },
  {
   "cell_type": "code",
   "execution_count": 51,
   "metadata": {},
   "outputs": [
    {
     "name": "stdout",
     "output_type": "stream",
     "text": [
      "fully connected :\t 238510\n",
      "conv net :\t\t 4381\n"
     ]
    }
   ],
   "source": [
    "def count_params(network):\n",
    "    return np.sum(np.prod(p.size()) for p in network.parameters())\n",
    "\n",
    "print(\"fully connected :\\t\",count_params(fc_classifier))\n",
    "print(\"conv net :\\t\\t\", count_params(le_net))"
   ]
  },
  {
   "cell_type": "markdown",
   "metadata": {},
   "source": [
    "There is an addage telling something like : deeper is better. I think it's because it introduce more non linearity....\n",
    "\n",
    "**Exercice**: _try to rebuild the network, vary the number of filters and the size, deleting and adding more layer (if possible)..._\n",
    "\n",
    "This exercise is trickier than the previous, because you should be aware and compute the size of the input of the fully connected classifier... (here 135 is not a magic number). GOOD LUCK ! 😜"
   ]
  },
  {
   "cell_type": "code",
   "execution_count": null,
   "metadata": {},
   "outputs": [],
   "source": []
  },
  {
   "cell_type": "code",
   "execution_count": 50,
   "metadata": {},
   "outputs": [
    {
     "data": {
      "text/plain": [
       "torch.Size([16, 64, 64])"
      ]
     },
     "execution_count": 50,
     "metadata": {},
     "output_type": "execute_result"
    }
   ],
   "source": []
  },
  {
   "cell_type": "code",
   "execution_count": null,
   "metadata": {},
   "outputs": [],
   "source": []
  }
 ],
 "metadata": {
  "kernelspec": {
   "display_name": "Python 3",
   "language": "python",
   "name": "python3"
  },
  "language_info": {
   "codemirror_mode": {
    "name": "ipython",
    "version": 3
   },
   "file_extension": ".py",
   "mimetype": "text/x-python",
   "name": "python",
   "nbconvert_exporter": "python",
   "pygments_lexer": "ipython3",
   "version": "3.6.5"
  }
 },
 "nbformat": 4,
 "nbformat_minor": 2
}
